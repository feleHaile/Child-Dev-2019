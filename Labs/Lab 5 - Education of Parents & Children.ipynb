{
 "cells": [
  {
   "cell_type": "code",
   "execution_count": null,
   "metadata": {},
   "outputs": [],
   "source": [
    "#Run this cell\n",
    "from datascience import *\n",
    "from pandas import read_stata\n",
    "import numpy as np\n",
    "from pygrowup import Calculator\n",
    "\n",
    "import matplotlib\n",
    "matplotlib.use('Agg', warn=False)\n",
    "%matplotlib inline\n",
    "import matplotlib.pyplot as plots\n",
    "plots.style.use('fivethirtyeight')\n",
    "import warnings\n",
    "warnings.simplefilter(action=\"ignore\", category=FutureWarning)"
   ]
  },
  {
   "cell_type": "markdown",
   "metadata": {},
   "source": [
    "# Education of Parents "
   ]
  },
  {
   "cell_type": "markdown",
   "metadata": {},
   "source": [
    "## Data Prep\n",
    "\n",
    "We are going to use some new variables in this lab: Mother & Father ID and Education Variables.\n",
    "Import your full data set, select these variables, and rename them.\n",
    "Also be sure to keep your hhid & personid variables."
   ]
  },
  {
   "cell_type": "code",
   "execution_count": null,
   "metadata": {
    "collapsed": true
   },
   "outputs": [],
   "source": [
    "# %cd ~/Child-Dev-2019/Data\n",
    "# %ls\n",
    "allvars = Table.read_table('AllJoined.csv')\n",
    "allvars"
   ]
  },
  {
   "cell_type": "code",
   "execution_count": null,
   "metadata": {
    "collapsed": true
   },
   "outputs": [],
   "source": [
    "new_vars = ['hhid', 'personid', '...', '...', '...']\n",
    "selected_new_vars = allvars.select(new_vars)\n",
    "selected_new_vars"
   ]
  },
  {
   "cell_type": "code",
   "execution_count": null,
   "metadata": {
    "collapsed": true
   },
   "outputs": [],
   "source": [
    "names_4_new_vars = ['Household ID', 'Individual ID', 'Sex', 'Age in Years', 'Number of Months', 'Day of Birth', 'Month of Birth', 'Year of Birth', 'Weight', 'Height','Relationship to HH Head', 'Mother ID', 'Father ID']\n",
    "\n",
    "selected_renamed = selected_new_vars.relabel(new_vars, names_4_new_vars)\n",
    "selected_renamed"
   ]
  },
  {
   "cell_type": "markdown",
   "metadata": {},
   "source": [
    "Remove the nans by transforming into a dataframe & back again"
   ]
  },
  {
   "cell_type": "code",
   "execution_count": null,
   "metadata": {
    "collapsed": true
   },
   "outputs": [],
   "source": [
    "dataframe = selected_renamed.to_df()\n",
    "altered = dataframe.fillna(-99)\n",
    "selected_renamed = Table.from_df(altered)"
   ]
  },
  {
   "cell_type": "markdown",
   "metadata": {},
   "source": [
    "Use the code from last week to create a master id for joining."
   ]
  },
  {
   "cell_type": "code",
   "execution_count": null,
   "metadata": {
    "collapsed": true
   },
   "outputs": [],
   "source": [
    "generate uniqueid=hhid*1000+individualid"
   ]
  },
  {
   "cell_type": "markdown",
   "metadata": {},
   "source": [
    "Now pull in the data from the end of Lab 4.  Join it with the new data."
   ]
  },
  {
   "cell_type": "code",
   "execution_count": null,
   "metadata": {
    "collapsed": true
   },
   "outputs": [],
   "source": [
    "lab4 = Table.read_table('Lab4.csv')\n",
    "generate uniqueid=hhid*...+individualid\n",
    "# do the left join!\n",
    "data=selected_renamed.join......"
   ]
  },
  {
   "cell_type": "markdown",
   "metadata": {},
   "source": [
    "Check to make sure you have the same size roster as when you started."
   ]
  },
  {
   "cell_type": "code",
   "execution_count": null,
   "metadata": {
    "collapsed": true
   },
   "outputs": [],
   "source": []
  },
  {
   "cell_type": "markdown",
   "metadata": {},
   "source": [
    "## Diving into the data\n",
    "\n",
    "This week we will look at specific information about parents. Examine your data and find a household with a child that has both a mother and a father living in the household.  This means both Mother ID and Father ID are not empty.  Just looking at this one family, can you determine mother's age and father's age? How about mother's education and father's education? Hint: Be sure to use the correct education variable (likely 'Years of Schooling' rather than 'Currently Enrolled in School'.)  \n",
    "\n",
    "Challenge yourself and try this activity with the kids who are living in the largest household in your data."
   ]
  },
  {
   "cell_type": "code",
   "execution_count": null,
   "metadata": {},
   "outputs": [],
   "source": [
    "largest_hhold = data.group('Household ID').sort('count',descending = True).column('Household ID').item(0)\n",
    "data.where(np.logical_and(data['Mother ID'] >= 0, data['Father ID'] >= 0)).where('Household ID', largest_hhold)"
   ]
  },
  {
   "cell_type": "markdown",
   "metadata": {},
   "source": [
    "### Additional Preparation\n",
    "\n",
    "You probably have two or more schooling variables.  Combine them into a single column \"Education\" to simplify your data.  \n",
    "\n",
    "Note: some data sets will have two variables for level of schooling and year.  For example, level is high school & years is 3. This person's years of schooling should be 11.  The code below illustrates what transformation you might have to do.  Check your questionnaire!  Recode this section based on your questions & your country's questionnaire!"
   ]
  },
  {
   "cell_type": "code",
   "execution_count": null,
   "metadata": {},
   "outputs": [],
   "source": [
    "def yearsextra(x):\n",
    "    if x==1: \n",
    "        return 0\n",
    "    elif x==2: \n",
    "        return 0\n",
    "    elif x==3: \n",
    "        return 6\n",
    "    elif x==4: \n",
    "        return 9  \n",
    "    elif x==5: \n",
    "        return 12 \n",
    "    elif x==7: \n",
    "        return 12\n",
    "    elif x==6: \n",
    "        return 14\n",
    "    elif x==8: \n",
    "        return 6\n",
    "    else:\n",
    "        return -99\n",
    "  \n",
    "data['Extra Years']=data.apply(yearsextra, 'Years of Schooling - Level')\n",
    "data['Education']=data['Years of Schooling - Years']+data['Extra Years']\n",
    "data['Education']= [data['Education'][i] if data['Education'][i] > 0 else data['Currently Enrolled in School'][i] for i in range(data.num_rows)]\n",
    "data"
   ]
  },
  {
   "cell_type": "markdown",
   "metadata": {},
   "source": [
    "We can do a quick check that the schooling makes sense and that people do not have more years of education than years of life.  \n",
    "<font color=\"Blue\"> Item 1: Do a scatter plot comparing Age in years to Education (without the -99 values).  Identify the observations that are impossible."
   ]
  },
  {
   "cell_type": "code",
   "execution_count": null,
   "metadata": {},
   "outputs": [],
   "source": [
    "data.where(data['Education']>0).where('Age in Years', are.below(20)).scatter('Education', 'Age in Years')"
   ]
  },
  {
   "cell_type": "markdown",
   "metadata": {},
   "source": [
    "Now that your Years of Education data looks good, drop the other education columns so you don't get confused ('Extra Years', 'Years of Schooling - Years', 'Years of Schooling - Level').  Keep 'Currently Enrolled'."
   ]
  },
  {
   "cell_type": "code",
   "execution_count": null,
   "metadata": {
    "scrolled": true
   },
   "outputs": [],
   "source": [
    "data=data.drop('Extra Years', 'Years of Schooling - Level', 'Years of Schooling - Years')\n",
    "data\n",
    "data.num_rows"
   ]
  },
  {
   "cell_type": "markdown",
   "metadata": {
    "collapsed": true
   },
   "source": [
    "We will now join in information about mothers."
   ]
  },
  {
   "cell_type": "code",
   "execution_count": null,
   "metadata": {
    "scrolled": true
   },
   "outputs": [],
   "source": [
    "# Make a Mother Master ID: \n",
    "data['Mother Master ID']=data['Household ID']*1000+data['Mother ID']\n",
    "\n",
    "# Make a table of information we want about mothers\n",
    "data_on_moms=data.select('Household ID', 'Individual ID', 'Age in Years', 'Education')\n",
    "data_on_moms=data_on_moms.relabel(['Age in Years', 'Education'],[\"Mom's Age\", \"Mom's Education\"])\n",
    "\n",
    "# Make a Mother Master ID: \n",
    "data_on_moms['Mother Master ID']=data['Household ID']*1000+data['Individual ID']\n",
    "\n",
    "# Create a table with rows all -99 for children who do not have mothers in the household\n",
    "data_on_moms_small=data_on_moms.group(\"Household ID\")\n",
    "data_on_moms_small=data_on_moms_small.select(\"Household ID\")\n",
    "data_on_moms_small['Individual ID']=-99\n",
    "data_on_moms_small[\"Mom's Age\"]=-99\n",
    "data_on_moms_small[\"Mom's Education\"]=-99\n",
    "data_on_moms_small['Mother Master ID']=data_on_moms_small['Household ID']*1000+data_on_moms_small['Individual ID']\n",
    "\n",
    "#append households with no mother IDs to created mother IDs\n",
    "data_on_moms=data_on_moms.append(data_on_moms_small)\n",
    "data_on_moms=data_on_moms.drop('Household ID', 'Individual ID')\n",
    "data_on_moms\n",
    "\n",
    "# Join the mother information to the child using the Mother Master ID\n",
    "data=data.join('Mother Master ID', data_on_moms, 'Mother Master ID')\n",
    "data=data.drop('Mother Master ID')\n",
    "data.show(100)\n"
   ]
  },
  {
   "cell_type": "code",
   "execution_count": null,
   "metadata": {
    "collapsed": true
   },
   "outputs": [],
   "source": []
  },
  {
   "cell_type": "markdown",
   "metadata": {},
   "source": [
    "Sometimes joining brings in extra lines of data.  Make sure you still have the same number of people that you started out with in the original table."
   ]
  },
  {
   "cell_type": "code",
   "execution_count": null,
   "metadata": {
    "collapsed": true
   },
   "outputs": [],
   "source": []
  },
  {
   "cell_type": "markdown",
   "metadata": {},
   "source": [
    "Examine your data.  Do you now have information about mothers for children who have mothers?  Does it make sense? (i.e. generally were children born when their mother was older than age 15.)  Make sure you do not have information about mothers for individuals that do not have mothers in the household."
   ]
  },
  {
   "cell_type": "code",
   "execution_count": null,
   "metadata": {
    "collapsed": true
   },
   "outputs": [],
   "source": []
  },
  {
   "cell_type": "markdown",
   "metadata": {},
   "source": [
    "<font color=\"Blue\"> Item 2: Make a new variable: Mother's age when child was born.  What is the youngest age at which a mother had a baby in your data set?"
   ]
  },
  {
   "cell_type": "code",
   "execution_count": null,
   "metadata": {
    "collapsed": true
   },
   "outputs": [],
   "source": []
  },
  {
   "cell_type": "markdown",
   "metadata": {},
   "source": [
    "Do the same for fathers: Dad's Age, Dad's Education"
   ]
  },
  {
   "cell_type": "code",
   "execution_count": null,
   "metadata": {},
   "outputs": [],
   "source": [
    "# Make a Father Master ID: \n",
    "data['Father Master ID']=data['Household ID']*1000+data['Father ID']\n",
    "\n",
    "# Make a table of information we want about fathers\n",
    "data_on_dads=data.select('Household ID', 'Individual ID', 'Age in Years', 'Education')\n",
    "data_on_dads=data_on_dads.relabel(['Age in Years', 'Education'],[\"Dad's Age\", \"Dad's Education\"])\n",
    "\n",
    "# Make a Father Master ID: \n",
    "data_on_dads['Father Master ID']=data['Household ID']*1000+data['Individual ID']\n",
    "\n",
    "# Create a table with rows all -99 for children who do not have fathers in the household\n",
    "data_on_dads_small=data_on_dads.group(\"Household ID\")\n",
    "data_on_dads_small=data_on_dads_small.select(\"Household ID\")\n",
    "data_on_dads_small['Individual ID']=-99\n",
    "data_on_dads_small[\"Dad's Age\"]=-99\n",
    "data_on_dads_small[\"Dad's Education\"]=-99\n",
    "data_on_dads_small['Father Master ID']=data_on_dads_small['Household ID']*1000+data_on_dads_small['Individual ID']\n",
    "\n",
    "#append households with no mother IDs to created father IDs\n",
    "data_on_dads=data_on_dads.append(data_on_dads_small)\n",
    "data_on_dads=data_on_dads.drop('Household ID', 'Individual ID')\n",
    "data_on_dads\n",
    "\n",
    "# Join the father information to the child using the Father Master ID\n",
    "data=data.join('Father Master ID', data_on_dads, 'Father Master ID')\n",
    "data=data.drop('Father Master ID')\n",
    "data.show(100)"
   ]
  },
  {
   "cell_type": "markdown",
   "metadata": {},
   "source": [
    "Save your data."
   ]
  },
  {
   "cell_type": "code",
   "execution_count": null,
   "metadata": {
    "collapsed": true
   },
   "outputs": [],
   "source": []
  },
  {
   "cell_type": "markdown",
   "metadata": {},
   "source": [
    " <font color=\"Blue\"> Item 2: Who is more educated - mothers or fathers?  Make a scatter plot of mothers education & fathers education. Explain how the graph supports your conlcusion."
   ]
  },
  {
   "cell_type": "code",
   "execution_count": null,
   "metadata": {
    "collapsed": true
   },
   "outputs": [],
   "source": []
  },
  {
   "cell_type": "markdown",
   "metadata": {},
   "source": [
    "## Let's examine if parent's education is associated with child outcomes.\n",
    "\n",
    "One theory suggests mother's eduction is better correlated with nutrition than father education.  <font color=\"Blue\"> Item 3:  Make a scatter plot of z-scores (from Lab 4) by father's education level.  Make another by mother's education level. What is  your impression? (Be sure to only graph the children and eliminate the missing values.)"
   ]
  },
  {
   "cell_type": "code",
   "execution_count": null,
   "metadata": {
    "collapsed": true
   },
   "outputs": [],
   "source": []
  },
  {
   "cell_type": "markdown",
   "metadata": {},
   "source": [
    "<font color=\"Blue\"> Item 4: Let's see if we get a clearer picture by using mean: Calculate mean z-scores by mothers' and fathers' education levels.  Graph these and comment on your findings. "
   ]
  },
  {
   "cell_type": "code",
   "execution_count": null,
   "metadata": {
    "collapsed": true
   },
   "outputs": [],
   "source": []
  },
  {
   "cell_type": "markdown",
   "metadata": {},
   "source": [
    "Z-scores are just for kids age 5 and under.  Let's check out how the older kids are doing. \n",
    "<font color=\"Blue\"> Item 5:  Calculate percent of 12-15 year olds currently enrolled in school by mother's and father's education level.\n",
    "\n",
    "<font color=\"Black\"> Hint: After confirming enrollment values, make a small table only including children of those ages and then pivot enrollment around mother's and father's education levels."
   ]
  },
  {
   "cell_type": "code",
   "execution_count": null,
   "metadata": {
    "collapsed": true
   },
   "outputs": [],
   "source": []
  },
  {
   "cell_type": "markdown",
   "metadata": {},
   "source": [
    "## Big challenge!\n",
    "Can you determine the age and education of grandparents?  Specifically, maternal grandmother, maternal grandfather, paternal grandmother, and paternal grandfather.  Hint: what if earlier you also included Mother's Mother's ID in the mother data base used for joining.  Again, try looking at the largest family to see how this works before attempting the coding."
   ]
  },
  {
   "cell_type": "code",
   "execution_count": null,
   "metadata": {
    "collapsed": true
   },
   "outputs": [],
   "source": []
  }
 ],
 "metadata": {
  "anaconda-cloud": {},
  "kernelspec": {
   "display_name": "Python 3",
   "language": "python",
   "name": "python3"
  },
  "language_info": {
   "codemirror_mode": {
    "name": "ipython",
    "version": 3
   },
   "file_extension": ".py",
   "mimetype": "text/x-python",
   "name": "python",
   "nbconvert_exporter": "python",
   "pygments_lexer": "ipython3",
   "version": "3.6.3"
  }
 },
 "nbformat": 4,
 "nbformat_minor": 1
}
