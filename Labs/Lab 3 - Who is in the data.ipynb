{
 "cells": [
  {
   "cell_type": "code",
   "execution_count": null,
   "metadata": {
    "collapsed": true
   },
   "outputs": [],
   "source": [
    "# make sure to run this cell\n",
    "from datascience import *\n",
    "import numpy as np\n",
    "import matplotlib.pyplot as plt\n",
    "import warnings\n",
    "\n",
    "%matplotlib inline\n",
    "plt.style.use('fivethirtyeight')\n",
    "warnings.simplefilter(action=\"ignore\", category=FutureWarning)"
   ]
  },
  {
   "cell_type": "markdown",
   "metadata": {},
   "source": [
    "# Lab 3 - Exploring the Data\n",
    "\n",
    "I. [Loading the Data](#load)\n",
    "\n",
    "II. [Initial Exploration](#init)\n",
    "\n",
    "III. [Age in Years](#years)\n",
    "\n",
    "&nbsp;&nbsp;&nbsp;&nbsp;&nbsp;&nbsp;1 - [Age Heaping](#heap)\n",
    "\n",
    "&nbsp;&nbsp;&nbsp;&nbsp;&nbsp;&nbsp;2 - [Population Pyramids](#pyramid)\n",
    "\n",
    "IV. [Working with Birthdays](#bday)\n",
    "\n",
    "&nbsp;&nbsp;&nbsp;&nbsp;&nbsp;&nbsp;1 - [Month Distribution](#month)\n",
    "\n",
    "&nbsp;&nbsp;&nbsp;&nbsp;&nbsp;&nbsp;2 - [Recalculating Age](#recalc)\n",
    "\n",
    "V. [Saving](#save)\n",
    "\n",
    "\n",
    "To get credit for doing your lab, you will need to prepare a document that contains answers to the items in <font color=\"blue\"> blue</font>.  Some answers can be typed in.  If a figure is required, you can take a screen shot and paste it in.  Once you have finished all the answers, turn your document into a pdf and turn in the lab by uploading it to bcourses assignments.  "
   ]
  },
  {
   "cell_type": "markdown",
   "metadata": {},
   "source": [
    "## Loading the Data <a id='load'></a>\n",
    "\n",
    "In the cell below, load the data set that you created in Lab 1."
   ]
  },
  {
   "cell_type": "code",
   "execution_count": null,
   "metadata": {
    "collapsed": true
   },
   "outputs": [],
   "source": [
    "# Import data that you saved at the end of Lab 1\n",
    "data = Table.read_table('Data_Roster_2_11.csv')\n",
    "\n",
    "# You may need to first change the directory\n",
    "%cd ~/Child-Dev-2019/data\n",
    "%ls\n",
    "data = Table.read_table('Data_Roster_2_11.csv')\n",
    "\n",
    "# If you did not have interview date in your Lab 1, you may need to upload the data Prof. Reynolds prepared for you.  \n",
    "# Insert lines of code from Lab 1 that renamed your variables.\n",
    "data = Table.read_table('DataFromDrR.csv')\n"
   ]
  },
  {
   "cell_type": "markdown",
   "metadata": {},
   "source": [
    "## Initial Exploration <a id='init'></a>\n",
    "\n",
    "Look at the first family in your Table.\n",
    "<font color=\"blue\"> Item 1: Who are the members in the family?  How old are they?  (example, mother (age 25), father (age 30), two sons (ages 12 & 5) & grandfather (age 65))  Challenge: if there’s a grandparent, can you tell if maternal or paternal? </font color>\n",
    "\n",
    "*Hint: The first family in the table will have the lowest master ID.*"
   ]
  },
  {
   "cell_type": "code",
   "execution_count": null,
   "metadata": {
    "collapsed": true
   },
   "outputs": [],
   "source": [
    "\n"
   ]
  },
  {
   "cell_type": "markdown",
   "metadata": {},
   "source": [
    "<font color=\"blue\"> Item 2: How many individuals are in your survey?"
   ]
  },
  {
   "cell_type": "markdown",
   "metadata": {},
   "source": [
    "*Hint: There is a row for each survey participant.* "
   ]
  },
  {
   "cell_type": "code",
   "execution_count": null,
   "metadata": {
    "collapsed": true
   },
   "outputs": [],
   "source": [
    "\n",
    "\n"
   ]
  },
  {
   "cell_type": "markdown",
   "metadata": {},
   "source": [
    "<font color=\"blue\"> Item 3: How many households are in your survey?\n",
    "<font color=\"black\">\n",
    "*Hint: Group will count the number of times a unique value occurs.*"
   ]
  },
  {
   "cell_type": "code",
   "execution_count": null,
   "metadata": {
    "collapsed": true
   },
   "outputs": [],
   "source": [
    "households = ...\n",
    "num_households = ...\n",
    "num_households\n"
   ]
  },
  {
   "cell_type": "markdown",
   "metadata": {},
   "source": [
    "<font color=\"blue\"> Item 4: What's the size of the biggest household? <font color=\"black\">\n",
    "<font color=\"black\">\n",
    "\n",
    "*Hint: The 'stats' method will give summary statistics for a table.*"
   ]
  },
  {
   "cell_type": "code",
   "execution_count": null,
   "metadata": {
    "collapsed": true
   },
   "outputs": [],
   "source": []
  },
  {
   "cell_type": "markdown",
   "metadata": {},
   "source": [
    "<font color=\"blue\"> Item 5: What's the average household size?"
   ]
  },
  {
   "cell_type": "code",
   "execution_count": null,
   "metadata": {
    "collapsed": true
   },
   "outputs": [],
   "source": [
    "\n"
   ]
  },
  {
   "cell_type": "markdown",
   "metadata": {},
   "source": [
    "## Exploring the Age in Years variable <a id='years'></a>\n",
    "Look at the values in the age column.  We cannot scroll through them all to make sure they make sense.  Let's group the data by the values in the age column.  This will be a more manageable table and we can scroll through.  Are there values less than 0 or greater than oldest person alive?"
   ]
  },
  {
   "cell_type": "code",
   "execution_count": null,
   "metadata": {
    "collapsed": true,
    "scrolled": true
   },
   "outputs": [],
   "source": [
    "ages = ...\n",
    "ages.show() # show will let us see all of the rows\n",
    "\n"
   ]
  },
  {
   "cell_type": "markdown",
   "metadata": {},
   "source": [
    "Do you see any strange values?  Do these correspond to missing codes in your codebook or questionnaire? If there are missing or coded variables that are different than what we covered in Lab 1, we need to account for those. Let us know if you see any!"
   ]
  },
  {
   "cell_type": "markdown",
   "metadata": {},
   "source": [
    "<font color=\"blue\"> Item 6: What percentage of indivduals are missing age data? </font color>\n",
    "\n",
    "*Hint: `where` might be helpful here.*"
   ]
  },
  {
   "cell_type": "code",
   "execution_count": null,
   "metadata": {
    "collapsed": true
   },
   "outputs": [],
   "source": [
    "\n"
   ]
  },
  {
   "cell_type": "markdown",
   "metadata": {},
   "source": [
    "<font color=\"blue\"> Item 7: Make a histogram of age and paste in the document. Explain what you notice.\n",
    "<font color=\"black\">\n",
    "\n",
    "*Hint: Your code might look like this: ages.hist(counts='Age in Years', unit='year', bins=np.arange(0,110,1), normed=False)*"
   ]
  },
  {
   "cell_type": "code",
   "execution_count": null,
   "metadata": {
    "collapsed": true
   },
   "outputs": [],
   "source": []
  },
  {
   "cell_type": "markdown",
   "metadata": {},
   "source": [
    "### Age Heaping <a id='heap'></a>\n",
    "\n",
    "Let's test formally for age heaping.  Below is the formula for Whipple's index.  Let's calculate it for the entire population, even though it was originally designed to be used for the population between 23 & 62. $N_{(0,5)}$ is the number of individuals with their age ending in 0 or 5 and $N$ is size of the entire population.\n",
    "\n",
    "$$\\left(\\frac{N_{(0,5)}}{N}\\right)*5$$\n",
    "\n",
    "\n",
    "\n",
    "<font color=\"blue\"> Item 8: Theoretically, if there is no age heaping, what is the value of the index?\n",
    "\n",
    "<font color=\"blue\"> Item 8a: Calculate the Whipple index for your country.  Looking at the histogram, do you think it is a good choice to base the heaping index on 0 and 5, or should another value be used?\n"
   ]
  },
  {
   "cell_type": "code",
   "execution_count": null,
   "metadata": {
    "collapsed": true
   },
   "outputs": [],
   "source": [
    "# Use Table.apply() and the functions provided below to calculate the Whipple Index\n",
    "def divisible_by_5(n):\n",
    "    return n % 5 == 0\n",
    "\n",
    "def divisible_by_10(n):\n",
    "    return n % 10 == 0\n",
    "\n",
    "whipple5 = ...\n",
    "whipple10 = ...\n",
    "\n",
    "(whipple5, whipple10)\n"
   ]
  },
  {
   "cell_type": "markdown",
   "metadata": {},
   "source": [
    "### Population Pyramids <a id='pyramid'></a>\n",
    "\n",
    "We would like to make a population pyramid for our sample.  Remind yourself what population pyramids look like with [this link](http://www.prb.org/Publications/Lesson-Plans/HumanPopulation/Change.aspx).\n",
    "Unfortunately our Python knowledge is not yet sophisticated enough to make graphs that are reflections of each other and on a rotated axis, so we will make overlaying graphs.  However, keep in mind what these would look like if you were able to rotate and unfold them."
   ]
  },
  {
   "cell_type": "markdown",
   "metadata": {},
   "source": [
    "<font color=\"blue\"> Item 9: Let's do a histogram of males and females. What do you notice?  \n",
    "Give this graph a title & upload to the google doc: https://docs.google.com/a/berkeley.edu/document/d/1AurSgy2Ucl3tGCerfgMdrkUGcDsSm_XDnfJTNJwceXw/edit?usp=sharing."
   ]
  },
  {
   "cell_type": "code",
   "execution_count": null,
   "metadata": {
    "collapsed": true
   },
   "outputs": [],
   "source": [
    "\n"
   ]
  },
  {
   "cell_type": "markdown",
   "metadata": {},
   "source": [
    "<font color=\"blue\"> Item 10: Let's do this just for male & female children ages 10 & younger. What do you notice?"
   ]
  },
  {
   "cell_type": "code",
   "execution_count": null,
   "metadata": {
    "collapsed": true
   },
   "outputs": [],
   "source": [
    "\n"
   ]
  },
  {
   "cell_type": "markdown",
   "metadata": {},
   "source": [
    "## Working with birthdays <a id='bday'></a>\n",
    "Age in years may not be accurate.  We will need more accurate ages for the young kids when we analyze their height.  Let's look at the birthdate and interview date variable(s).  We need to get these into a form where we can figure out how much time passed between them.  Make sure your table has the following columns *with numeric entries (ints or floats)*: birth year, birth month, birth day and interview year, interview month, interview day.  Make sure the year has all 4 digits."
   ]
  },
  {
   "cell_type": "markdown",
   "metadata": {},
   "source": [
    "### Month Distribution <a id='month'></a>"
   ]
  },
  {
   "cell_type": "markdown",
   "metadata": {},
   "source": [
    "<font color=\"blue\"> Item 11: What month has the most birthdays?  Is it the same in the US?"
   ]
  },
  {
   "cell_type": "code",
   "execution_count": null,
   "metadata": {
    "collapsed": true
   },
   "outputs": [],
   "source": [
    "months = data.group('Month of Birth')\n",
    "months....\n",
    "\n"
   ]
  },
  {
   "cell_type": "markdown",
   "metadata": {},
   "source": [
    "### Recalculating Age <a id='recalc'></a>\n",
    "\n",
    "Now write a formula to calculate the days between the birthdate & interview dates.  We can get a pretty good approximation by calculating the days of each from 0 a.d. and subtracting.  $$\\langle\\textrm{days since 0 a.d.}\\rangle = 365.25*\\textrm{year} + 30.5*(\\textrm{month}-1) + \\textrm{day}$$\n",
    "\n",
    "Use the difference between interview date and birthdate to find the number of days old a person is.  Entitle this new column `Days old`.\n",
    "\n",
    "*Make sure to remove rows where the birthdate is unknown.*"
   ]
  },
  {
   "cell_type": "code",
   "execution_count": null,
   "metadata": {
    "collapsed": true
   },
   "outputs": [],
   "source": [
    "def days_total(years, months, days):\n",
    "    return 365.25 * years + 30.5 * (months - 1) + days\n",
    "\n",
    "byears = ...\n",
    "bmonths = ...\n",
    "bdays = ...\n",
    "bdays_total = ...\n",
    "\n",
    "# Do the same for the interview date\n",
    "\n",
    "iyears = ...\n",
    "imonths = ...\n",
    "idays = ...\n",
    "idays_total = ...\n",
    "\n",
    "# Make a new column \"Days Old\" that is difference between days old of interview & birthdate\n",
    "days = ...\n",
    "data = ...\n",
    "data\n",
    "\n"
   ]
  },
  {
   "cell_type": "markdown",
   "metadata": {},
   "source": [
    "Calculate two new columns from `Days Old`: `Months Old` and `Years Old`. "
   ]
  },
  {
   "cell_type": "code",
   "execution_count": null,
   "metadata": {
    "collapsed": true
   },
   "outputs": [],
   "source": [
    "data = data.with_column('Years Old', ...)\n",
    "data = data.with_column('Months Old', ...)\n",
    "\n",
    "# removing unknown birthdays\n",
    "removed = data.where(..., ...)\n",
    "removed\n"
   ]
  },
  {
   "cell_type": "markdown",
   "metadata": {},
   "source": [
    "Let's compare years old that we calculated to years old from the survey question.  Make a scatter plot to compare these. "
   ]
  },
  {
   "cell_type": "code",
   "execution_count": null,
   "metadata": {
    "collapsed": true
   },
   "outputs": [],
   "source": [
    "\n"
   ]
  },
  {
   "cell_type": "markdown",
   "metadata": {},
   "source": [
    "<font color=\"blue\"> Item 12: Repeat the above graph restricting the sample to people with age in years between 45 and 55.  Comment on how well people know their ages."
   ]
  },
  {
   "cell_type": "code",
   "execution_count": null,
   "metadata": {
    "collapsed": true
   },
   "outputs": [],
   "source": [
    "\n"
   ]
  },
  {
   "cell_type": "markdown",
   "metadata": {
    "collapsed": true
   },
   "source": [
    "## Saving Data <a id='save'></a>\n",
    "\n",
    "Save this data table now with the new calculated months old variable. Make sure that you include the entire population, even those missing birthdate data.  Save this large data set as a .csv file."
   ]
  },
  {
   "cell_type": "code",
   "execution_count": null,
   "metadata": {
    "collapsed": true
   },
   "outputs": [],
   "source": [
    "# you need to add this code!\n"
   ]
  },
  {
   "cell_type": "markdown",
   "metadata": {},
   "source": [
    "#### Congratulations, you're done! Make sure to save this notebook, that you've saved your data set (we'll be using it next week), and to turn in your document."
   ]
  }
 ],
 "metadata": {
  "anaconda-cloud": {},
  "kernelspec": {
   "display_name": "Python 3",
   "language": "python",
   "name": "python3"
  },
  "language_info": {
   "codemirror_mode": {
    "name": "ipython",
    "version": 3
   },
   "file_extension": ".py",
   "mimetype": "text/x-python",
   "name": "python",
   "nbconvert_exporter": "python",
   "pygments_lexer": "ipython3",
   "version": "3.6.3"
  }
 },
 "nbformat": 4,
 "nbformat_minor": 1
}
