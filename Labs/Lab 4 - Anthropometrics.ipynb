{
 "cells": [
  {
   "cell_type": "code",
   "execution_count": 7,
   "metadata": {
    "collapsed": true
   },
   "outputs": [],
   "source": [
    "# run this cell\n",
    "from datascience import *\n",
    "from pandas import read_stata\n",
    "import numpy as np\n",
    "\n",
    "import matplotlib\n",
    "matplotlib.use('Agg', warn=False)\n",
    "%matplotlib inline\n",
    "import matplotlib.pyplot as plots\n",
    "plots.style.use('fivethirtyeight')\n",
    "import warnings\n",
    "warnings.simplefilter(action=\"ignore\", category=FutureWarning)"
   ]
  },
  {
   "cell_type": "markdown",
   "metadata": {},
   "source": [
    "# Pygrowup\n",
    "We will install this program from the World Health Organization.  \n",
    "On your files tab, go to new & select terminal.\n",
    "type code: `pip install --user pygrowup`\n",
    "\n",
    "Then continue below."
   ]
  },
  {
   "cell_type": "code",
   "execution_count": 8,
   "metadata": {
    "collapsed": true
   },
   "outputs": [],
   "source": [
    "from pygrowup import Calculator\n",
    "calculator = Calculator(adjust_height_data=False, adjust_weight_scores=False,\n",
    "                       include_cdc=False, logger_name='pygrowup',\n",
    "                       log_level='INFO')"
   ]
  },
  {
   "cell_type": "markdown",
   "metadata": {},
   "source": [
    "# Preparing Data\n",
    "\n",
    "This lab uses one additional variables - height & weight - than the variables in Lab 2. Import these along with the data we usually use.\n",
    "\n",
    "Copy & paste cells from Lab 2 where you imported the data & also import the height variable.  Make sure your age in months variable is also imported.\n",
    "\n",
    "    a) make sure the directory is the right folder (Data)\n",
    "    b) import AllJoined raw data\n",
    "    b) select columns, now including height (& weight)\n",
    "    c) rename columns\n",
    "    d) remove nans (convert to dataframe, replace nans with -99, convert back to tables)\n",
    "\n",
    "Name this table of all individuals \"data\".  Later in the lab we will work with a subset (renamed valid_children), but will want to access the table of everyone (data) at the end of the lab.\n"
   ]
  },
  {
   "cell_type": "code",
   "execution_count": null,
   "metadata": {
    "collapsed": true
   },
   "outputs": [],
   "source": []
  },
  {
   "cell_type": "code",
   "execution_count": null,
   "metadata": {
    "collapsed": true
   },
   "outputs": [],
   "source": []
  },
  {
   "cell_type": "code",
   "execution_count": null,
   "metadata": {
    "collapsed": true
   },
   "outputs": [],
   "source": []
  },
  {
   "cell_type": "code",
   "execution_count": null,
   "metadata": {
    "collapsed": true
   },
   "outputs": [],
   "source": []
  },
  {
   "cell_type": "markdown",
   "metadata": {},
   "source": [
    "# Anthropometric measures\n",
    "We are going to look at data about growth.\n",
    "\n",
    "Children grow as they get older, but by how much should they be growing?  The growth chart is helpful because instead of having to know what everyone's height should be at the different ages, we can compare across ages using one measure."
   ]
  },
  {
   "cell_type": "code",
   "execution_count": 9,
   "metadata": {},
   "outputs": [
    {
     "name": "stderr",
     "output_type": "stream",
     "text": [
      "'[]' is not recognized as an internal or external command,\n",
      "operable program or batch file.\n"
     ]
    }
   ],
   "source": [
    "![](Lab_4_Image_1.jpg)"
   ]
  },
  {
   "cell_type": "markdown",
   "metadata": {},
   "source": [
    "![](Lab_3_Image_1.jpg)"
   ]
  },
  {
   "cell_type": "markdown",
   "metadata": {},
   "source": [
    "<font color=\"blue\"> Item 1: Using your data, make a scatter plot of height in centimeters and age in months for children under 5 years (60 months).  Do not include missing values (-99).\n",
    "> Visually inspect the graph:  What is average height/length at 1 month?  How about at 24 months?  At 5 years?  \n",
    "> How does the spread of heights change as children age?"
   ]
  },
  {
   "cell_type": "code",
   "execution_count": null,
   "metadata": {
    "collapsed": true
   },
   "outputs": [],
   "source": [
    "# make a scatter plot"
   ]
  },
  {
   "cell_type": "code",
   "execution_count": 5,
   "metadata": {},
   "outputs": [
    {
     "name": "stderr",
     "output_type": "stream",
     "text": [
      "'[]' is not recognized as an internal or external command,\n",
      "operable program or batch file.\n"
     ]
    }
   ],
   "source": [
    "![](Lab_4_Image_2.jpg)"
   ]
  },
  {
   "cell_type": "markdown",
   "metadata": {},
   "source": [
    "![](Lab_3_Image_2.jpg)"
   ]
  },
  {
   "cell_type": "markdown",
   "metadata": {},
   "source": [
    "Is your graph similar to the above chart?  The above chart shows the ranges of healthly growth.  Similar to percentiles, z-scores are comparable across age.  The z-scores in the chart below were generated based on well-nourished & healthy children all over the world. \n",
    "\n",
    "<font color=\"blue\"> Item 2: Calculate average height for girls age 0-2 months, 23-25 months, and 58-60 months.  Using the growth chart above, what are the average girl's z-scores for these ages?  Use the middle month when reading the chart (1 month, 2 years, 5 years).  At which age are children in your population doing the best, relative to healthy children around the world? "
   ]
  },
  {
   "cell_type": "code",
   "execution_count": null,
   "metadata": {
    "collapsed": true
   },
   "outputs": [],
   "source": [
    "girls = ***Filter the table to be just girls***\n",
    "avg_0_to_2 = ***Average height for girls between 0 and 2 months***\n",
    "avg_23_to_25 = ***Average height for girls between 23 and 25 months***\n",
    "avg_58_to_60 = ***Average height for girls between 58 and 60 months***\n",
    "(avg_0_to_2, avg_23_to_25, avg_58_to_60)"
   ]
  },
  {
   "cell_type": "markdown",
   "metadata": {},
   "source": [
    "The World Health Organization has provided data a program to do these transformations for us. Keep only children under age 5 (60 months or less). Implement the pygrowup code for these children. \n",
    "<font color=\"Blue\"> Item 3:  Use the two cells below to determine which variables Pygrowup generates."
   ]
  },
  {
   "cell_type": "code",
   "execution_count": null,
   "metadata": {
    "collapsed": true
   },
   "outputs": [],
   "source": [
    "# Adjust missing values to work in Pygrowup.  \n",
    "# Later we will drop them as they will calculate into impossible z-score values.\n",
    "data ['missing value height']=1\n",
    "data ['missing value months old']=59\n",
    "data['Height']=[data['Height'][i] if data['Height'][i]>0 else data['missing value height'][i] for i in range(data.num_rows)]\n",
    "data['Months Old']=[data['Months Old'][i] if data['Months Old'][i]<61 else data['missing value months old'][i] for i in range(data.num_rows)]\n",
    "data=data.drop('missing value height', 'missing value months old')\n",
    "valid_children=data \n",
    "valid_children.show(100)"
   ]
  },
  {
   "cell_type": "code",
   "execution_count": null,
   "metadata": {
    "collapsed": true
   },
   "outputs": [],
   "source": [
    "#formula from Pygrowup\n",
    "def compute_z_score(row):\n",
    "    if row.item('Sex') == 1:\n",
    "        sex = 'M'\n",
    "    else:\n",
    "        sex = 'F'\n",
    "    return calculator.lhfa(row.item('height'), row.item('Months Old'), sex)\n",
    "\n",
    "z_scores = valid_children.apply(compute_z_score)\n",
    "\n",
    "# Now add a column \"z_scores\" to the 'valid_children' table\n",
    "\n",
    "#After you've added the column, run this code on it.  This changes the data storage format to a friendlier one for our purposes.\n",
    "valid_children['z_scores'] = valid_children.apply(float,'z_scores')\n",
    "\n",
    "valid_children"
   ]
  },
  {
   "cell_type": "markdown",
   "metadata": {},
   "source": [
    "Z-scores less than -4 and greater than 4 are implausible.  Replace these with -99."
   ]
  },
  {
   "cell_type": "code",
   "execution_count": null,
   "metadata": {
    "collapsed": true
   },
   "outputs": [],
   "source": []
  },
  {
   "cell_type": "markdown",
   "metadata": {},
   "source": [
    "<font color=\"Blue\"> Item 4: Calculate average z-scores for each age month.  Graph average z-score and age in months.  Do you notice any trends?"
   ]
  },
  {
   "cell_type": "code",
   "execution_count": null,
   "metadata": {
    "collapsed": true
   },
   "outputs": [],
   "source": [
    "# also add a line of code to eliminate z-scores with missing values.\n",
    "\n",
    "rounded_months = valid_children.apply(round, '***Column Name***')\n",
    "valid_children['***Column Name***'] = rounded_months\n",
    "max_month = int(max(rounded_months))\n",
    "\n",
    "averages = []\n",
    "for month in range(max_month):\n",
    "    month_avg = float(np.mean(valid_children.where('***Column Name***', month)['***Column Name***']))\n",
    "    averages.append(month_avg)\n",
    "\n",
    "averages_table = Table().with_column('***Column Name***', averages).with_column('***Column Name***', range(max_month))\n",
    "averages_table.plot('***Column Name***')"
   ]
  },
  {
   "cell_type": "markdown",
   "metadata": {},
   "source": [
    "<font color=\"Blue\"> Item 5: What percentage of your population is stunted?  (Height for age z-score less than -2)"
   ]
  },
  {
   "cell_type": "code",
   "execution_count": null,
   "metadata": {
    "collapsed": true
   },
   "outputs": [],
   "source": []
  },
  {
   "cell_type": "markdown",
   "metadata": {},
   "source": [
    "<font color=\"Blue\"> Item 6: Calculate average z-scores for boys and girls.  How do these compare?  If there is a difference, do you think these are a result of gender discrimination, or just coincidentally different?  How would you test this? (you do not have to actually test it statistically, just describe)"
   ]
  },
  {
   "cell_type": "code",
   "execution_count": null,
   "metadata": {
    "collapsed": true
   },
   "outputs": [],
   "source": [
    "boy_average = \n",
    "girl_average = \n",
    "(boy_average, girl_average)"
   ]
  },
  {
   "cell_type": "markdown",
   "metadata": {},
   "source": [
    "Still have time before class ends?  Repeat exercises 4-6 with Weight for Age and/or BMI for age.  What are the differences in these two measures?  What are the implications of these differences?"
   ]
  },
  {
   "cell_type": "code",
   "execution_count": null,
   "metadata": {
    "collapsed": true
   },
   "outputs": [],
   "source": []
  },
  {
   "cell_type": "markdown",
   "metadata": {},
   "source": [
    "# Formating the zscores for future joining.\n",
    "The current data table you have been working with has the zscores and all the variables, but only for children age 5 and under.  Let's format the zscore data in a way that we can join it to the full data.\n",
    "\n",
    "Limit your table valid_children to only include household id, individual id and the new variables created by pygrowup."
   ]
  },
  {
   "cell_type": "code",
   "execution_count": null,
   "metadata": {
    "collapsed": true
   },
   "outputs": [],
   "source": []
  },
  {
   "cell_type": "markdown",
   "metadata": {},
   "source": [
    "### Joining\n",
    "We want to join the data (all observations) and valid_children tables (only children with new variables from pygrowup), linking with household id and individual id.  However, these are currently two separate columns.  We need to combine them into a single Master Id.\n",
    "\n",
    "We need to assign a unique value to each pair of the form `(<household id>, <individual id>)`. One way to do this is to construct a number of the form `<household id>0<individual_id>`. Here, the 0 acts as a separator, telling us where the household id ends and where the individual id begins. A method to get a number of this form is to use the following equation: $$id = household\\_id * 10^n + individual\\_id$$ where $n$ is larger than the number of digits in the largest individual id. (Exercise: think about why this is true). \n",
    "\n",
    "We have provided the rough code to compute this function and return a new table with the Master ID column. However, you need to fill out the value of n. Use the blank cell below to find out how many digits there are in the largest individual id in your roster."
   ]
  },
  {
   "cell_type": "code",
   "execution_count": null,
   "metadata": {
    "collapsed": true
   },
   "outputs": [],
   "source": [
    "max(data[\"Individual ID\"])"
   ]
  },
  {
   "cell_type": "code",
   "execution_count": null,
   "metadata": {
    "collapsed": true
   },
   "outputs": [],
   "source": [
    "data['Master ID']=data['Household ID']***n***+data['Individual ID']\n",
    "data"
   ]
  },
  {
   "cell_type": "code",
   "execution_count": null,
   "metadata": {
    "collapsed": true
   },
   "outputs": [],
   "source": [
    "#Usage: <new_table> = append_master_id(<old_table>)\n",
    "#Returns: a new table with column \"Master ID\" appended to the old table\n",
    "#Make sure <old_table> has the columns \"Household ID\" and \"Individual ID\"\n",
    "\n",
    "def append_master_id(table, household_id_label=\"Household ID\", individual_id_label=\"Individual ID\"):\n",
    "\n",
    "    #Fill in value of n. Should be 1 more than the number of digits of the largest number in the Household ID column.\n",
    "    n = 3\n",
    "    \n",
    "    household_col = table[household_id_label]\n",
    "    individual_col = table[individual_id_label]\n",
    "    master_col = []\n",
    "    for household_id, individual_id in zip(household_col, individual_col):\n",
    "        master_col.append(household_id * 1000 + individual_id)\n",
    "    return table.with_column('Master ID', master_col)\n",
    "    \n",
    "\n",
    "data_renamed = append_master_id(zscores_renamed)\n",
    "data_renamed\n",
    "#employment_renamed = append_master_id(employment_renamed).drop(['Household ID', 'Individual ID'])\n",
    "\n",
    "# for instructor reference, any table that does not contain both a household ID AND\n",
    "# individual ID, like the 'household' table, will not work with this function - RW"
   ]
  },
  {
   "cell_type": "markdown",
   "metadata": {},
   "source": [
    "Also create a master ID in your valid_children table."
   ]
  },
  {
   "cell_type": "code",
   "execution_count": null,
   "metadata": {
    "collapsed": true
   },
   "outputs": [],
   "source": []
  },
  {
   "cell_type": "markdown",
   "metadata": {},
   "source": [
    "Confirm that there is now a unique id for each observation in the valid_children table and the data table."
   ]
  },
  {
   "cell_type": "code",
   "execution_count": null,
   "metadata": {
    "collapsed": true
   },
   "outputs": [],
   "source": []
  },
  {
   "cell_type": "markdown",
   "metadata": {},
   "source": [
    "<font color=\"Blue\"> Item 7: Add one more cleaing check to make sure your valid_children dataset includes only the children under 5.  Tell me what code you used."
   ]
  },
  {
   "cell_type": "code",
   "execution_count": null,
   "metadata": {
    "collapsed": true
   },
   "outputs": [],
   "source": []
  },
  {
   "cell_type": "markdown",
   "metadata": {},
   "source": [
    "Remove the columns Household ID and Indivdiual ID from the valid_children table - They are already in the data table and we won't need them for joining since we have the Master ID. \n"
   ]
  },
  {
   "cell_type": "code",
   "execution_count": null,
   "metadata": {
    "collapsed": true
   },
   "outputs": [],
   "source": []
  },
  {
   "cell_type": "markdown",
   "metadata": {},
   "source": [
    "Join the tables data and valid_children using the master ID you just created!"
   ]
  },
  {
   "cell_type": "code",
   "execution_count": null,
   "metadata": {
    "collapsed": true
   },
   "outputs": [],
   "source": [
    "data.join(***column_label***, valid_children, other_label=None)"
   ]
  },
  {
   "cell_type": "markdown",
   "metadata": {},
   "source": [
    "Save this Lab 4 table as a csv file."
   ]
  },
  {
   "cell_type": "code",
   "execution_count": null,
   "metadata": {
    "collapsed": true
   },
   "outputs": [],
   "source": []
  },
  {
   "cell_type": "markdown",
   "metadata": {},
   "source": [
    "# Backup your notebook!\n",
    "Your labs build on each other.  If the server goes down, your work will be lost! Download this lab to the google drive to save a backup."
   ]
  },
  {
   "cell_type": "code",
   "execution_count": null,
   "metadata": {
    "collapsed": true
   },
   "outputs": [],
   "source": []
  }
 ],
 "metadata": {
  "anaconda-cloud": {},
  "kernelspec": {
   "display_name": "Python 3",
   "language": "python",
   "name": "python3"
  },
  "language_info": {
   "codemirror_mode": {
    "name": "ipython",
    "version": 3
   },
   "file_extension": ".py",
   "mimetype": "text/x-python",
   "name": "python",
   "nbconvert_exporter": "python",
   "pygments_lexer": "ipython3",
   "version": "3.6.3"
  }
 },
 "nbformat": 4,
 "nbformat_minor": 1
}
