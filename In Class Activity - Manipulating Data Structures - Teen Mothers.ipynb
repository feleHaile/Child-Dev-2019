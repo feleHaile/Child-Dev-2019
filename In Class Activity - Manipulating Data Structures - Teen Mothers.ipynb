{
 "cells": [
  {
   "cell_type": "code",
   "execution_count": 42,
   "metadata": {
    "collapsed": true
   },
   "outputs": [],
   "source": [
    "# run this cell\n",
    "from datascience import *\n",
    "from pandas import read_stata\n",
    "import numpy as np\n",
    "\n",
    "import matplotlib\n",
    "matplotlib.use('Agg', warn=False)\n",
    "%matplotlib inline\n",
    "import matplotlib.pyplot as plots\n",
    "plots.style.use('fivethirtyeight')\n",
    "import warnings\n",
    "warnings.simplefilter(action=\"ignore\", category=FutureWarning)"
   ]
  },
  {
   "cell_type": "markdown",
   "metadata": {},
   "source": [
    "In this exercise we will join data to learn about the education of teen mothers and thier children in urban Colombia from the 2016 ELCA survey.  Upload the roster data."
   ]
  },
  {
   "cell_type": "code",
   "execution_count": 43,
   "metadata": {},
   "outputs": [
    {
     "data": {
      "text/html": [
       "<table border=\"1\" class=\"dataframe\">\n",
       "    <thead>\n",
       "        <tr>\n",
       "            <th>hhid</th> <th>roster_id</th> <th>age</th> <th>sex</th> <th>mother_id</th> <th>education_complete</th> <th>current_grade</th>\n",
       "        </tr>\n",
       "    </thead>\n",
       "    <tbody>\n",
       "        <tr>\n",
       "            <td>1   </td> <td>1        </td> <td>60  </td> <td>Mujer </td> <td>nan      </td> <td>beyond secondary  </td> <td>nan          </td>\n",
       "        </tr>\n",
       "    </tbody>\n",
       "        <tr>\n",
       "            <td>1   </td> <td>6        </td> <td>40  </td> <td>Mujer </td> <td>1        </td> <td>beyond secondary  </td> <td>nan          </td>\n",
       "        </tr>\n",
       "    </tbody>\n",
       "        <tr>\n",
       "            <td>1   </td> <td>7        </td> <td>67  </td> <td>Hombre</td> <td>nan      </td> <td>beyond secondary  </td> <td>nan          </td>\n",
       "        </tr>\n",
       "    </tbody>\n",
       "        <tr>\n",
       "            <td>1   </td> <td>8        </td> <td>22  </td> <td>Hombre</td> <td>6        </td> <td>beyond secondary  </td> <td>nan          </td>\n",
       "        </tr>\n",
       "    </tbody>\n",
       "        <tr>\n",
       "            <td>2   </td> <td>1        </td> <td>53  </td> <td>Mujer </td> <td>nan      </td> <td>beyond secondary  </td> <td>nan          </td>\n",
       "        </tr>\n",
       "    </tbody>\n",
       "        <tr>\n",
       "            <td>2   </td> <td>2        </td> <td>25  </td> <td>Hombre</td> <td>1        </td> <td>beyond secondary  </td> <td>nan          </td>\n",
       "        </tr>\n",
       "    </tbody>\n",
       "        <tr>\n",
       "            <td>2   </td> <td>3        </td> <td>22  </td> <td>Mujer </td> <td>1        </td> <td>beyond secondary  </td> <td>13           </td>\n",
       "        </tr>\n",
       "    </tbody>\n",
       "        <tr>\n",
       "            <td>2   </td> <td>4        </td> <td>30  </td> <td>Mujer </td> <td>1        </td> <td>beyond secondary  </td> <td>nan          </td>\n",
       "        </tr>\n",
       "    </tbody>\n",
       "        <tr>\n",
       "            <td>2   </td> <td>5        </td> <td>6   </td> <td>Hombre</td> <td>4        </td> <td>beyond secondary  </td> <td>2            </td>\n",
       "        </tr>\n",
       "    </tbody>\n",
       "        <tr>\n",
       "            <td>2   </td> <td>6        </td> <td>31  </td> <td>Hombre</td> <td>nan      </td> <td>beyond secondary  </td> <td>nan          </td>\n",
       "        </tr>\n",
       "    </tbody>\n",
       "</table>\n",
       "<p>... (19288 rows omitted)</p>"
      ],
      "text/plain": [
       "hhid | roster_id | age  | sex    | mother_id | education_complete | current_grade\n",
       "1    | 1         | 60   | Mujer  | nan       | beyond secondary   | nan\n",
       "1    | 6         | 40   | Mujer  | 1         | beyond secondary   | nan\n",
       "1    | 7         | 67   | Hombre | nan       | beyond secondary   | nan\n",
       "1    | 8         | 22   | Hombre | 6         | beyond secondary   | nan\n",
       "2    | 1         | 53   | Mujer  | nan       | beyond secondary   | nan\n",
       "2    | 2         | 25   | Hombre | 1         | beyond secondary   | nan\n",
       "2    | 3         | 22   | Mujer  | 1         | beyond secondary   | 13\n",
       "2    | 4         | 30   | Mujer  | 1         | beyond secondary   | nan\n",
       "2    | 5         | 6    | Hombre | 4         | beyond secondary   | 2\n",
       "2    | 6         | 31   | Hombre | nan       | beyond secondary   | nan\n",
       "... (19288 rows omitted)"
      ]
     },
     "execution_count": 43,
     "metadata": {},
     "output_type": "execute_result"
    }
   ],
   "source": [
    "filename = 'Colombia Roster.csv'\n",
    "colombia_roster = Table.read_table(filename)\n",
    "colombia_roster"
   ]
  },
  {
   "cell_type": "markdown",
   "metadata": {},
   "source": [
    "First, we need to figure out who were teen mothers.  For each mother on the roster, keep the oldest child. (use motherid)  \n",
    "This requires a number of steps: figure out who is the oldest child and then link that child's age to the mother's observation "
   ]
  },
  {
   "cell_type": "markdown",
   "metadata": {},
   "source": [
    "Keep only the variables householdid, mother_id and age. Rename motherID as indivID and rename age as childage.  Combine hhID & indivID into a unique_indivID"
   ]
  },
  {
   "cell_type": "code",
   "execution_count": 44,
   "metadata": {
    "scrolled": false
   },
   "outputs": [
    {
     "data": {
      "text/html": [
       "<table border=\"1\" class=\"dataframe\">\n",
       "    <thead>\n",
       "        <tr>\n",
       "            <th>hhid</th> <th>indivID</th> <th>childage</th>\n",
       "        </tr>\n",
       "    </thead>\n",
       "    <tbody>\n",
       "        <tr>\n",
       "            <td>1   </td> <td>1      </td> <td>40      </td>\n",
       "        </tr>\n",
       "    </tbody>\n",
       "        <tr>\n",
       "            <td>1   </td> <td>6      </td> <td>22      </td>\n",
       "        </tr>\n",
       "    </tbody>\n",
       "        <tr>\n",
       "            <td>2   </td> <td>1      </td> <td>25      </td>\n",
       "        </tr>\n",
       "    </tbody>\n",
       "        <tr>\n",
       "            <td>2   </td> <td>1      </td> <td>22      </td>\n",
       "        </tr>\n",
       "    </tbody>\n",
       "        <tr>\n",
       "            <td>2   </td> <td>1      </td> <td>30      </td>\n",
       "        </tr>\n",
       "    </tbody>\n",
       "        <tr>\n",
       "            <td>2   </td> <td>4      </td> <td>6       </td>\n",
       "        </tr>\n",
       "    </tbody>\n",
       "        <tr>\n",
       "            <td>2   </td> <td>4      </td> <td>3       </td>\n",
       "        </tr>\n",
       "    </tbody>\n",
       "        <tr>\n",
       "            <td>3   </td> <td>2      </td> <td>12      </td>\n",
       "        </tr>\n",
       "    </tbody>\n",
       "        <tr>\n",
       "            <td>4   </td> <td>1      </td> <td>13      </td>\n",
       "        </tr>\n",
       "    </tbody>\n",
       "        <tr>\n",
       "            <td>4   </td> <td>1      </td> <td>7       </td>\n",
       "        </tr>\n",
       "    </tbody>\n",
       "</table>\n",
       "<p>... (9302 rows omitted)</p>"
      ],
      "text/plain": [
       "hhid | indivID | childage\n",
       "1    | 1       | 40\n",
       "1    | 6       | 22\n",
       "2    | 1       | 25\n",
       "2    | 1       | 22\n",
       "2    | 1       | 30\n",
       "2    | 4       | 6\n",
       "2    | 4       | 3\n",
       "3    | 2       | 12\n",
       "4    | 1       | 13\n",
       "4    | 1       | 7\n",
       "... (9302 rows omitted)"
      ]
     },
     "execution_count": 44,
     "metadata": {},
     "output_type": "execute_result"
    }
   ],
   "source": [
    "children = colombia_roster.select('hhid', 'mother_id', 'age')\n",
    "children.relabel('mother_id', 'indivID').relabel('age', 'childage')\n",
    "children = children.where('indivID', are.above(0))\n",
    "children"
   ]
  },
  {
   "cell_type": "markdown",
   "metadata": {},
   "source": [
    "Create a mother id so we can group by this to find the oldest age"
   ]
  },
  {
   "cell_type": "code",
   "execution_count": 45,
   "metadata": {},
   "outputs": [
    {
     "data": {
      "text/plain": [
       "array([  1.00100000e+03,   1.00600000e+03,   2.00100000e+03, ...,\n",
       "         4.86000200e+06,   4.86000300e+06,   4.86000300e+06])"
      ]
     },
     "execution_count": 45,
     "metadata": {},
     "output_type": "execute_result"
    }
   ],
   "source": [
    "mother_unique_id = children.column('...') * 1000 + children.column('...')\n",
    "mother_unique_id"
   ]
  },
  {
   "cell_type": "markdown",
   "metadata": {},
   "source": [
    "Now we don't need hhid or indivID"
   ]
  },
  {
   "cell_type": "code",
   "execution_count": 46,
   "metadata": {},
   "outputs": [
    {
     "data": {
      "text/html": [
       "<table border=\"1\" class=\"dataframe\">\n",
       "    <thead>\n",
       "        <tr>\n",
       "            <th>childage</th> <th>mother_uniqueid</th>\n",
       "        </tr>\n",
       "    </thead>\n",
       "    <tbody>\n",
       "        <tr>\n",
       "            <td>40      </td> <td>1001           </td>\n",
       "        </tr>\n",
       "    </tbody>\n",
       "        <tr>\n",
       "            <td>22      </td> <td>1006           </td>\n",
       "        </tr>\n",
       "    </tbody>\n",
       "        <tr>\n",
       "            <td>25      </td> <td>2001           </td>\n",
       "        </tr>\n",
       "    </tbody>\n",
       "        <tr>\n",
       "            <td>22      </td> <td>2001           </td>\n",
       "        </tr>\n",
       "    </tbody>\n",
       "        <tr>\n",
       "            <td>30      </td> <td>2001           </td>\n",
       "        </tr>\n",
       "    </tbody>\n",
       "        <tr>\n",
       "            <td>6       </td> <td>2004           </td>\n",
       "        </tr>\n",
       "    </tbody>\n",
       "        <tr>\n",
       "            <td>3       </td> <td>2004           </td>\n",
       "        </tr>\n",
       "    </tbody>\n",
       "        <tr>\n",
       "            <td>12      </td> <td>3002           </td>\n",
       "        </tr>\n",
       "    </tbody>\n",
       "        <tr>\n",
       "            <td>13      </td> <td>4001           </td>\n",
       "        </tr>\n",
       "    </tbody>\n",
       "        <tr>\n",
       "            <td>7       </td> <td>4001           </td>\n",
       "        </tr>\n",
       "    </tbody>\n",
       "</table>\n",
       "<p>... (9302 rows omitted)</p>"
      ],
      "text/plain": [
       "childage | mother_uniqueid\n",
       "40       | 1001\n",
       "22       | 1006\n",
       "25       | 2001\n",
       "22       | 2001\n",
       "30       | 2001\n",
       "6        | 2004\n",
       "3        | 2004\n",
       "12       | 3002\n",
       "13       | 4001\n",
       "7        | 4001\n",
       "... (9302 rows omitted)"
      ]
     },
     "execution_count": 46,
     "metadata": {},
     "output_type": "execute_result"
    }
   ],
   "source": [
    "children = children.with_column('mother_uniqueid', mother_unique_id)\n",
    "children = children.select('childage', 'mother_uniqueid')\n",
    "children"
   ]
  },
  {
   "cell_type": "markdown",
   "metadata": {},
   "source": [
    "Find the oldest age of each mother."
   ]
  },
  {
   "cell_type": "code",
   "execution_count": 47,
   "metadata": {},
   "outputs": [
    {
     "data": {
      "text/html": [
       "<table border=\"1\" class=\"dataframe\">\n",
       "    <thead>\n",
       "        <tr>\n",
       "            <th>mother_uniqueid</th> <th>childage max</th>\n",
       "        </tr>\n",
       "    </thead>\n",
       "    <tbody>\n",
       "        <tr>\n",
       "            <td>1001           </td> <td>40          </td>\n",
       "        </tr>\n",
       "    </tbody>\n",
       "        <tr>\n",
       "            <td>1006           </td> <td>22          </td>\n",
       "        </tr>\n",
       "    </tbody>\n",
       "        <tr>\n",
       "            <td>2001           </td> <td>30          </td>\n",
       "        </tr>\n",
       "    </tbody>\n",
       "        <tr>\n",
       "            <td>2004           </td> <td>6           </td>\n",
       "        </tr>\n",
       "    </tbody>\n",
       "        <tr>\n",
       "            <td>3002           </td> <td>12          </td>\n",
       "        </tr>\n",
       "    </tbody>\n",
       "        <tr>\n",
       "            <td>4001           </td> <td>13          </td>\n",
       "        </tr>\n",
       "    </tbody>\n",
       "        <tr>\n",
       "            <td>5002           </td> <td>7           </td>\n",
       "        </tr>\n",
       "    </tbody>\n",
       "        <tr>\n",
       "            <td>7002           </td> <td>28          </td>\n",
       "        </tr>\n",
       "    </tbody>\n",
       "        <tr>\n",
       "            <td>7004           </td> <td>5           </td>\n",
       "        </tr>\n",
       "    </tbody>\n",
       "        <tr>\n",
       "            <td>8001           </td> <td>21          </td>\n",
       "        </tr>\n",
       "    </tbody>\n",
       "</table>\n",
       "<p>... (5194 rows omitted)</p>"
      ],
      "text/plain": [
       "mother_uniqueid | childage max\n",
       "1001            | 40\n",
       "1006            | 22\n",
       "2001            | 30\n",
       "2004            | 6\n",
       "3002            | 12\n",
       "4001            | 13\n",
       "5002            | 7\n",
       "7002            | 28\n",
       "7004            | 5\n",
       "8001            | 21\n",
       "... (5194 rows omitted)"
      ]
     },
     "execution_count": 47,
     "metadata": {},
     "output_type": "execute_result"
    }
   ],
   "source": [
    "oldest_children = children.group('mother_uniqueid', max)\n",
    "oldest_children"
   ]
  },
  {
   "cell_type": "markdown",
   "metadata": {},
   "source": [
    "Link this to the mother.  Open the roster data set again, create the unique_indivID combining hhID &indivID & join the data sets."
   ]
  },
  {
   "cell_type": "code",
   "execution_count": 48,
   "metadata": {},
   "outputs": [
    {
     "data": {
      "text/plain": [
       "array([   1001,    1006,    1007, ..., 4860003, 4860004, 4860005], dtype=int64)"
      ]
     },
     "execution_count": 48,
     "metadata": {},
     "output_type": "execute_result"
    }
   ],
   "source": [
    "unique_id = colombia_roster.column('...') * 1000 + colombia_roster.column('...')\n",
    "unique_id"
   ]
  },
  {
   "cell_type": "code",
   "execution_count": 49,
   "metadata": {},
   "outputs": [
    {
     "data": {
      "text/html": [
       "<table border=\"1\" class=\"dataframe\">\n",
       "    <thead>\n",
       "        <tr>\n",
       "            <th>hhid</th> <th>roster_id</th> <th>age</th> <th>sex</th> <th>mother_id</th> <th>education_complete</th> <th>current_grade</th> <th>unique_id</th> <th>mother_uniqueid</th>\n",
       "        </tr>\n",
       "    </thead>\n",
       "    <tbody>\n",
       "        <tr>\n",
       "            <td>1   </td> <td>1        </td> <td>60  </td> <td>Mujer </td> <td>nan      </td> <td>beyond secondary  </td> <td>nan          </td> <td>1001     </td> <td>1001           </td>\n",
       "        </tr>\n",
       "    </tbody>\n",
       "        <tr>\n",
       "            <td>1   </td> <td>6        </td> <td>40  </td> <td>Mujer </td> <td>1        </td> <td>beyond secondary  </td> <td>nan          </td> <td>1006     </td> <td>1006           </td>\n",
       "        </tr>\n",
       "    </tbody>\n",
       "        <tr>\n",
       "            <td>1   </td> <td>7        </td> <td>67  </td> <td>Hombre</td> <td>nan      </td> <td>beyond secondary  </td> <td>nan          </td> <td>1007     </td> <td>1007           </td>\n",
       "        </tr>\n",
       "    </tbody>\n",
       "        <tr>\n",
       "            <td>1   </td> <td>8        </td> <td>22  </td> <td>Hombre</td> <td>6        </td> <td>beyond secondary  </td> <td>nan          </td> <td>1008     </td> <td>1008           </td>\n",
       "        </tr>\n",
       "    </tbody>\n",
       "        <tr>\n",
       "            <td>2   </td> <td>1        </td> <td>53  </td> <td>Mujer </td> <td>nan      </td> <td>beyond secondary  </td> <td>nan          </td> <td>2001     </td> <td>2001           </td>\n",
       "        </tr>\n",
       "    </tbody>\n",
       "        <tr>\n",
       "            <td>2   </td> <td>2        </td> <td>25  </td> <td>Hombre</td> <td>1        </td> <td>beyond secondary  </td> <td>nan          </td> <td>2002     </td> <td>2002           </td>\n",
       "        </tr>\n",
       "    </tbody>\n",
       "        <tr>\n",
       "            <td>2   </td> <td>3        </td> <td>22  </td> <td>Mujer </td> <td>1        </td> <td>beyond secondary  </td> <td>13           </td> <td>2003     </td> <td>2003           </td>\n",
       "        </tr>\n",
       "    </tbody>\n",
       "        <tr>\n",
       "            <td>2   </td> <td>4        </td> <td>30  </td> <td>Mujer </td> <td>1        </td> <td>beyond secondary  </td> <td>nan          </td> <td>2004     </td> <td>2004           </td>\n",
       "        </tr>\n",
       "    </tbody>\n",
       "        <tr>\n",
       "            <td>2   </td> <td>5        </td> <td>6   </td> <td>Hombre</td> <td>4        </td> <td>beyond secondary  </td> <td>2            </td> <td>2005     </td> <td>2005           </td>\n",
       "        </tr>\n",
       "    </tbody>\n",
       "        <tr>\n",
       "            <td>2   </td> <td>6        </td> <td>31  </td> <td>Hombre</td> <td>nan      </td> <td>beyond secondary  </td> <td>nan          </td> <td>2006     </td> <td>2006           </td>\n",
       "        </tr>\n",
       "    </tbody>\n",
       "</table>\n",
       "<p>... (19288 rows omitted)</p>"
      ],
      "text/plain": [
       "hhid | roster_id | age  | sex    | mother_id | education_complete | current_grade | unique_id | mother_uniqueid\n",
       "1    | 1         | 60   | Mujer  | nan       | beyond secondary   | nan           | 1001      | 1001\n",
       "1    | 6         | 40   | Mujer  | 1         | beyond secondary   | nan           | 1006      | 1006\n",
       "1    | 7         | 67   | Hombre | nan       | beyond secondary   | nan           | 1007      | 1007\n",
       "1    | 8         | 22   | Hombre | 6         | beyond secondary   | nan           | 1008      | 1008\n",
       "2    | 1         | 53   | Mujer  | nan       | beyond secondary   | nan           | 2001      | 2001\n",
       "2    | 2         | 25   | Hombre | 1         | beyond secondary   | nan           | 2002      | 2002\n",
       "2    | 3         | 22   | Mujer  | 1         | beyond secondary   | 13            | 2003      | 2003\n",
       "2    | 4         | 30   | Mujer  | 1         | beyond secondary   | nan           | 2004      | 2004\n",
       "2    | 5         | 6    | Hombre | 4         | beyond secondary   | 2             | 2005      | 2005\n",
       "2    | 6         | 31   | Hombre | nan       | beyond secondary   | nan           | 2006      | 2006\n",
       "... (19288 rows omitted)"
      ]
     },
     "execution_count": 49,
     "metadata": {},
     "output_type": "execute_result"
    }
   ],
   "source": [
    "colombia_roster = colombia_roster.with_column('unique_id', unique_id)\n",
    "colombia_roster = colombia_roster.with_column('mother_uniqueid', unique_id)\n",
    "colombia_roster"
   ]
  },
  {
   "cell_type": "code",
   "execution_count": 50,
   "metadata": {},
   "outputs": [
    {
     "data": {
      "text/html": [
       "<table border=\"1\" class=\"dataframe\">\n",
       "    <thead>\n",
       "        <tr>\n",
       "            <th>mother_uniqueid</th> <th>hhid</th> <th>roster_id</th> <th>age</th> <th>sex</th> <th>mother_id</th> <th>education_complete</th> <th>current_grade</th> <th>unique_id</th> <th>childage max</th>\n",
       "        </tr>\n",
       "    </thead>\n",
       "    <tbody>\n",
       "        <tr>\n",
       "            <td>1001           </td> <td>1   </td> <td>1        </td> <td>60  </td> <td>Mujer</td> <td>nan      </td> <td>beyond secondary  </td> <td>nan          </td> <td>1001     </td> <td>40          </td>\n",
       "        </tr>\n",
       "    </tbody>\n",
       "        <tr>\n",
       "            <td>1006           </td> <td>1   </td> <td>6        </td> <td>40  </td> <td>Mujer</td> <td>1        </td> <td>beyond secondary  </td> <td>nan          </td> <td>1006     </td> <td>22          </td>\n",
       "        </tr>\n",
       "    </tbody>\n",
       "        <tr>\n",
       "            <td>2001           </td> <td>2   </td> <td>1        </td> <td>53  </td> <td>Mujer</td> <td>nan      </td> <td>beyond secondary  </td> <td>nan          </td> <td>2001     </td> <td>30          </td>\n",
       "        </tr>\n",
       "    </tbody>\n",
       "        <tr>\n",
       "            <td>2004           </td> <td>2   </td> <td>4        </td> <td>30  </td> <td>Mujer</td> <td>1        </td> <td>beyond secondary  </td> <td>nan          </td> <td>2004     </td> <td>6           </td>\n",
       "        </tr>\n",
       "    </tbody>\n",
       "        <tr>\n",
       "            <td>3002           </td> <td>3   </td> <td>2        </td> <td>40  </td> <td>Mujer</td> <td>nan      </td> <td>beyond secondary  </td> <td>nan          </td> <td>3002     </td> <td>12          </td>\n",
       "        </tr>\n",
       "    </tbody>\n",
       "        <tr>\n",
       "            <td>4001           </td> <td>4   </td> <td>1        </td> <td>29  </td> <td>Mujer</td> <td>nan      </td> <td>beyond secondary  </td> <td>nan          </td> <td>4001     </td> <td>13          </td>\n",
       "        </tr>\n",
       "    </tbody>\n",
       "        <tr>\n",
       "            <td>5002           </td> <td>5   </td> <td>2        </td> <td>38  </td> <td>Mujer</td> <td>nan      </td> <td>beyond secondary  </td> <td>nan          </td> <td>5002     </td> <td>7           </td>\n",
       "        </tr>\n",
       "    </tbody>\n",
       "        <tr>\n",
       "            <td>7002           </td> <td>7   </td> <td>2        </td> <td>59  </td> <td>Mujer</td> <td>nan      </td> <td>beyond secondary  </td> <td>nan          </td> <td>7002     </td> <td>28          </td>\n",
       "        </tr>\n",
       "    </tbody>\n",
       "        <tr>\n",
       "            <td>7004           </td> <td>7   </td> <td>4        </td> <td>28  </td> <td>Mujer</td> <td>2        </td> <td>beyond secondary  </td> <td>15           </td> <td>7004     </td> <td>5           </td>\n",
       "        </tr>\n",
       "    </tbody>\n",
       "        <tr>\n",
       "            <td>8001           </td> <td>8   </td> <td>1        </td> <td>38  </td> <td>Mujer</td> <td>nan      </td> <td>beyond secondary  </td> <td>9            </td> <td>8001     </td> <td>21          </td>\n",
       "        </tr>\n",
       "    </tbody>\n",
       "</table>\n",
       "<p>... (5191 rows omitted)</p>"
      ],
      "text/plain": [
       "mother_uniqueid | hhid | roster_id | age  | sex   | mother_id | education_complete | current_grade | unique_id | childage max\n",
       "1001            | 1    | 1         | 60   | Mujer | nan       | beyond secondary   | nan           | 1001      | 40\n",
       "1006            | 1    | 6         | 40   | Mujer | 1         | beyond secondary   | nan           | 1006      | 22\n",
       "2001            | 2    | 1         | 53   | Mujer | nan       | beyond secondary   | nan           | 2001      | 30\n",
       "2004            | 2    | 4         | 30   | Mujer | 1         | beyond secondary   | nan           | 2004      | 6\n",
       "3002            | 3    | 2         | 40   | Mujer | nan       | beyond secondary   | nan           | 3002      | 12\n",
       "4001            | 4    | 1         | 29   | Mujer | nan       | beyond secondary   | nan           | 4001      | 13\n",
       "5002            | 5    | 2         | 38   | Mujer | nan       | beyond secondary   | nan           | 5002      | 7\n",
       "7002            | 7    | 2         | 59   | Mujer | nan       | beyond secondary   | nan           | 7002      | 28\n",
       "7004            | 7    | 4         | 28   | Mujer | 2         | beyond secondary   | 15            | 7004      | 5\n",
       "8001            | 8    | 1         | 38   | Mujer | nan       | beyond secondary   | 9             | 8001      | 21\n",
       "... (5191 rows omitted)"
      ]
     },
     "execution_count": 50,
     "metadata": {},
     "output_type": "execute_result"
    }
   ],
   "source": [
    "# Join only keeps individuals who have children in the data\n",
    "mothers = colombia_roster.join('mother_uniqueid', oldest_children)\n",
    "mothers"
   ]
  },
  {
   "cell_type": "markdown",
   "metadata": {},
   "source": [
    "Use Mother's age and age of oldest child to calculate mother's age at first birth."
   ]
  },
  {
   "cell_type": "code",
   "execution_count": 51,
   "metadata": {},
   "outputs": [
    {
     "data": {
      "text/html": [
       "<table border=\"1\" class=\"dataframe\">\n",
       "    <thead>\n",
       "        <tr>\n",
       "            <th>mother_uniqueid</th> <th>hhid</th> <th>roster_id</th> <th>age</th> <th>sex</th> <th>mother_id</th> <th>education_complete</th> <th>current_grade</th> <th>unique_id</th> <th>childage max</th> <th>age first birth</th>\n",
       "        </tr>\n",
       "    </thead>\n",
       "    <tbody>\n",
       "        <tr>\n",
       "            <td>1001           </td> <td>1   </td> <td>1        </td> <td>60  </td> <td>Mujer</td> <td>nan      </td> <td>beyond secondary  </td> <td>nan          </td> <td>1001     </td> <td>40          </td> <td>20             </td>\n",
       "        </tr>\n",
       "    </tbody>\n",
       "        <tr>\n",
       "            <td>1006           </td> <td>1   </td> <td>6        </td> <td>40  </td> <td>Mujer</td> <td>1        </td> <td>beyond secondary  </td> <td>nan          </td> <td>1006     </td> <td>22          </td> <td>18             </td>\n",
       "        </tr>\n",
       "    </tbody>\n",
       "        <tr>\n",
       "            <td>2001           </td> <td>2   </td> <td>1        </td> <td>53  </td> <td>Mujer</td> <td>nan      </td> <td>beyond secondary  </td> <td>nan          </td> <td>2001     </td> <td>30          </td> <td>23             </td>\n",
       "        </tr>\n",
       "    </tbody>\n",
       "        <tr>\n",
       "            <td>2004           </td> <td>2   </td> <td>4        </td> <td>30  </td> <td>Mujer</td> <td>1        </td> <td>beyond secondary  </td> <td>nan          </td> <td>2004     </td> <td>6           </td> <td>24             </td>\n",
       "        </tr>\n",
       "    </tbody>\n",
       "        <tr>\n",
       "            <td>3002           </td> <td>3   </td> <td>2        </td> <td>40  </td> <td>Mujer</td> <td>nan      </td> <td>beyond secondary  </td> <td>nan          </td> <td>3002     </td> <td>12          </td> <td>28             </td>\n",
       "        </tr>\n",
       "    </tbody>\n",
       "        <tr>\n",
       "            <td>4001           </td> <td>4   </td> <td>1        </td> <td>29  </td> <td>Mujer</td> <td>nan      </td> <td>beyond secondary  </td> <td>nan          </td> <td>4001     </td> <td>13          </td> <td>16             </td>\n",
       "        </tr>\n",
       "    </tbody>\n",
       "        <tr>\n",
       "            <td>5002           </td> <td>5   </td> <td>2        </td> <td>38  </td> <td>Mujer</td> <td>nan      </td> <td>beyond secondary  </td> <td>nan          </td> <td>5002     </td> <td>7           </td> <td>31             </td>\n",
       "        </tr>\n",
       "    </tbody>\n",
       "        <tr>\n",
       "            <td>7002           </td> <td>7   </td> <td>2        </td> <td>59  </td> <td>Mujer</td> <td>nan      </td> <td>beyond secondary  </td> <td>nan          </td> <td>7002     </td> <td>28          </td> <td>31             </td>\n",
       "        </tr>\n",
       "    </tbody>\n",
       "        <tr>\n",
       "            <td>7004           </td> <td>7   </td> <td>4        </td> <td>28  </td> <td>Mujer</td> <td>2        </td> <td>beyond secondary  </td> <td>15           </td> <td>7004     </td> <td>5           </td> <td>23             </td>\n",
       "        </tr>\n",
       "    </tbody>\n",
       "        <tr>\n",
       "            <td>8001           </td> <td>8   </td> <td>1        </td> <td>38  </td> <td>Mujer</td> <td>nan      </td> <td>beyond secondary  </td> <td>9            </td> <td>8001     </td> <td>21          </td> <td>17             </td>\n",
       "        </tr>\n",
       "    </tbody>\n",
       "</table>\n",
       "<p>... (5191 rows omitted)</p>"
      ],
      "text/plain": [
       "mother_uniqueid | hhid | roster_id | age  | sex   | mother_id | education_complete | current_grade | unique_id | childage max | age first birth\n",
       "1001            | 1    | 1         | 60   | Mujer | nan       | beyond secondary   | nan           | 1001      | 40           | 20\n",
       "1006            | 1    | 6         | 40   | Mujer | 1         | beyond secondary   | nan           | 1006      | 22           | 18\n",
       "2001            | 2    | 1         | 53   | Mujer | nan       | beyond secondary   | nan           | 2001      | 30           | 23\n",
       "2004            | 2    | 4         | 30   | Mujer | 1         | beyond secondary   | nan           | 2004      | 6            | 24\n",
       "3002            | 3    | 2         | 40   | Mujer | nan       | beyond secondary   | nan           | 3002      | 12           | 28\n",
       "4001            | 4    | 1         | 29   | Mujer | nan       | beyond secondary   | nan           | 4001      | 13           | 16\n",
       "5002            | 5    | 2         | 38   | Mujer | nan       | beyond secondary   | nan           | 5002      | 7            | 31\n",
       "7002            | 7    | 2         | 59   | Mujer | nan       | beyond secondary   | nan           | 7002      | 28           | 31\n",
       "7004            | 7    | 4         | 28   | Mujer | 2         | beyond secondary   | 15            | 7004      | 5            | 23\n",
       "8001            | 8    | 1         | 38   | Mujer | nan       | beyond secondary   | 9             | 8001      | 21           | 17\n",
       "... (5191 rows omitted)"
      ]
     },
     "execution_count": 51,
     "metadata": {},
     "output_type": "execute_result"
    }
   ],
   "source": [
    "age_first_birth = mothers.column('...') - mothers.column('...')\n",
    "mothers = mothers.with_column('age first birth', age_first_birth)\n",
    "mothers"
   ]
  },
  {
   "cell_type": "markdown",
   "metadata": {},
   "source": [
    "Make a histogram of mother's age at first birth.  Remove crazy outliers."
   ]
  },
  {
   "cell_type": "code",
   "execution_count": 52,
   "metadata": {},
   "outputs": [
    {
     "data": {
      "image/png": "[encoded data removed]",
      "text/plain": [
       "<matplotlib.figure.Figure at 0x149e6762860>"
      ]
     },
     "metadata": {},
     "output_type": "display_data"
    }
   ],
   "source": [
    "..."
   ]
  },
  {
   "cell_type": "markdown",
   "metadata": {},
   "source": [
    "Make a new \"TeenMom\" variable indicating women who had thier oldest child before age 20. Save this data table. (We probably missed some women who were teen mothers - why?)  "
   ]
  },
  {
   "cell_type": "code",
   "execution_count": 53,
   "metadata": {},
   "outputs": [
    {
     "data": {
      "text/html": [
       "<table border=\"1\" class=\"dataframe\">\n",
       "    <thead>\n",
       "        <tr>\n",
       "            <th>mother_uniqueid</th> <th>hhid</th> <th>roster_id</th> <th>age</th> <th>sex</th> <th>mother_id</th> <th>education_complete</th> <th>current_grade</th> <th>unique_id</th> <th>childage max</th> <th>age first birth</th> <th>Teen Mom</th>\n",
       "        </tr>\n",
       "    </thead>\n",
       "    <tbody>\n",
       "        <tr>\n",
       "            <td>1001           </td> <td>1   </td> <td>1        </td> <td>60  </td> <td>Mujer</td> <td>nan      </td> <td>beyond secondary  </td> <td>nan          </td> <td>1001     </td> <td>40          </td> <td>20             </td> <td>No      </td>\n",
       "        </tr>\n",
       "    </tbody>\n",
       "        <tr>\n",
       "            <td>1006           </td> <td>1   </td> <td>6        </td> <td>40  </td> <td>Mujer</td> <td>1        </td> <td>beyond secondary  </td> <td>nan          </td> <td>1006     </td> <td>22          </td> <td>18             </td> <td>Yes     </td>\n",
       "        </tr>\n",
       "    </tbody>\n",
       "        <tr>\n",
       "            <td>2001           </td> <td>2   </td> <td>1        </td> <td>53  </td> <td>Mujer</td> <td>nan      </td> <td>beyond secondary  </td> <td>nan          </td> <td>2001     </td> <td>30          </td> <td>23             </td> <td>No      </td>\n",
       "        </tr>\n",
       "    </tbody>\n",
       "        <tr>\n",
       "            <td>2004           </td> <td>2   </td> <td>4        </td> <td>30  </td> <td>Mujer</td> <td>1        </td> <td>beyond secondary  </td> <td>nan          </td> <td>2004     </td> <td>6           </td> <td>24             </td> <td>No      </td>\n",
       "        </tr>\n",
       "    </tbody>\n",
       "        <tr>\n",
       "            <td>3002           </td> <td>3   </td> <td>2        </td> <td>40  </td> <td>Mujer</td> <td>nan      </td> <td>beyond secondary  </td> <td>nan          </td> <td>3002     </td> <td>12          </td> <td>28             </td> <td>No      </td>\n",
       "        </tr>\n",
       "    </tbody>\n",
       "        <tr>\n",
       "            <td>4001           </td> <td>4   </td> <td>1        </td> <td>29  </td> <td>Mujer</td> <td>nan      </td> <td>beyond secondary  </td> <td>nan          </td> <td>4001     </td> <td>13          </td> <td>16             </td> <td>Yes     </td>\n",
       "        </tr>\n",
       "    </tbody>\n",
       "        <tr>\n",
       "            <td>5002           </td> <td>5   </td> <td>2        </td> <td>38  </td> <td>Mujer</td> <td>nan      </td> <td>beyond secondary  </td> <td>nan          </td> <td>5002     </td> <td>7           </td> <td>31             </td> <td>No      </td>\n",
       "        </tr>\n",
       "    </tbody>\n",
       "        <tr>\n",
       "            <td>7002           </td> <td>7   </td> <td>2        </td> <td>59  </td> <td>Mujer</td> <td>nan      </td> <td>beyond secondary  </td> <td>nan          </td> <td>7002     </td> <td>28          </td> <td>31             </td> <td>No      </td>\n",
       "        </tr>\n",
       "    </tbody>\n",
       "        <tr>\n",
       "            <td>7004           </td> <td>7   </td> <td>4        </td> <td>28  </td> <td>Mujer</td> <td>2        </td> <td>beyond secondary  </td> <td>15           </td> <td>7004     </td> <td>5           </td> <td>23             </td> <td>No      </td>\n",
       "        </tr>\n",
       "    </tbody>\n",
       "        <tr>\n",
       "            <td>8001           </td> <td>8   </td> <td>1        </td> <td>38  </td> <td>Mujer</td> <td>nan      </td> <td>beyond secondary  </td> <td>9            </td> <td>8001     </td> <td>21          </td> <td>17             </td> <td>Yes     </td>\n",
       "        </tr>\n",
       "    </tbody>\n",
       "</table>\n",
       "<p>... (5191 rows omitted)</p>"
      ],
      "text/plain": [
       "mother_uniqueid | hhid | roster_id | age  | sex   | mother_id | education_complete | current_grade | unique_id | childage max | age first birth | Teen Mom\n",
       "1001            | 1    | 1         | 60   | Mujer | nan       | beyond secondary   | nan           | 1001      | 40           | 20              | No\n",
       "1006            | 1    | 6         | 40   | Mujer | 1         | beyond secondary   | nan           | 1006      | 22           | 18              | Yes\n",
       "2001            | 2    | 1         | 53   | Mujer | nan       | beyond secondary   | nan           | 2001      | 30           | 23              | No\n",
       "2004            | 2    | 4         | 30   | Mujer | 1         | beyond secondary   | nan           | 2004      | 6            | 24              | No\n",
       "3002            | 3    | 2         | 40   | Mujer | nan       | beyond secondary   | nan           | 3002      | 12           | 28              | No\n",
       "4001            | 4    | 1         | 29   | Mujer | nan       | beyond secondary   | nan           | 4001      | 13           | 16              | Yes\n",
       "5002            | 5    | 2         | 38   | Mujer | nan       | beyond secondary   | nan           | 5002      | 7            | 31              | No\n",
       "7002            | 7    | 2         | 59   | Mujer | nan       | beyond secondary   | nan           | 7002      | 28           | 31              | No\n",
       "7004            | 7    | 4         | 28   | Mujer | 2         | beyond secondary   | 15            | 7004      | 5            | 23              | No\n",
       "8001            | 8    | 1         | 38   | Mujer | nan       | beyond secondary   | 9             | 8001      | 21           | 17              | Yes\n",
       "... (5191 rows omitted)"
      ]
     },
     "execution_count": 53,
     "metadata": {},
     "output_type": "execute_result"
    }
   ],
   "source": [
    "teen_mom = []\n",
    "for i in mothers.column('age first birth'):\n",
    "    if i < 20:\n",
    "        teen_mom.append('Yes')\n",
    "    else:\n",
    "        teen_mom.append('No')\n",
    "mothers = mothers.with_column('Teen Mom', teen_mom)\n",
    "mothers"
   ]
  },
  {
   "cell_type": "markdown",
   "metadata": {},
   "source": [
    "What percentage of women were teen mothers?"
   ]
  },
  {
   "cell_type": "code",
   "execution_count": 54,
   "metadata": {},
   "outputs": [
    {
     "data": {
      "text/html": [
       "<table border=\"1\" class=\"dataframe\">\n",
       "    <thead>\n",
       "        <tr>\n",
       "            <th>Teen Mom</th> <th>count</th>\n",
       "        </tr>\n",
       "    </thead>\n",
       "    <tbody>\n",
       "        <tr>\n",
       "            <td>No      </td> <td>3962 </td>\n",
       "        </tr>\n",
       "    </tbody>\n",
       "        <tr>\n",
       "            <td>Yes     </td> <td>1239 </td>\n",
       "        </tr>\n",
       "    </tbody>\n",
       "</table>"
      ],
      "text/plain": [
       "Teen Mom | count\n",
       "No       | 3962\n",
       "Yes      | 1239"
      ]
     },
     "execution_count": 54,
     "metadata": {},
     "output_type": "execute_result"
    }
   ],
   "source": [
    "mothers.group('...')"
   ]
  },
  {
   "cell_type": "markdown",
   "metadata": {},
   "source": [
    "How does the level of education of women who were teen mothers compared to non-teen mothers?"
   ]
  },
  {
   "cell_type": "code",
   "execution_count": 55,
   "metadata": {},
   "outputs": [
    {
     "data": {
      "text/html": [
       "<table border=\"1\" class=\"dataframe\">\n",
       "    <thead>\n",
       "        <tr>\n",
       "            <th>education_complete</th> <th>count</th>\n",
       "        </tr>\n",
       "    </thead>\n",
       "    <tbody>\n",
       "        <tr>\n",
       "            <td>beyond secondary  </td> <td>1239 </td>\n",
       "        </tr>\n",
       "    </tbody>\n",
       "</table>"
      ],
      "text/plain": [
       "education_complete | count\n",
       "beyond secondary   | 1239"
      ]
     },
     "execution_count": 55,
     "metadata": {},
     "output_type": "execute_result"
    }
   ],
   "source": [
    "mothers.where('...', '...').group('...')"
   ]
  },
  {
   "cell_type": "code",
   "execution_count": 56,
   "metadata": {},
   "outputs": [
    {
     "data": {
      "text/html": [
       "<table border=\"1\" class=\"dataframe\">\n",
       "    <thead>\n",
       "        <tr>\n",
       "            <th>education_complete</th> <th>count</th>\n",
       "        </tr>\n",
       "    </thead>\n",
       "    <tbody>\n",
       "        <tr>\n",
       "            <td>beyond secondary  </td> <td>3962 </td>\n",
       "        </tr>\n",
       "    </tbody>\n",
       "</table>"
      ],
      "text/plain": [
       "education_complete | count\n",
       "beyond secondary   | 3962"
      ]
     },
     "execution_count": 56,
     "metadata": {},
     "output_type": "execute_result"
    }
   ],
   "source": [
    "..."
   ]
  },
  {
   "cell_type": "markdown",
   "metadata": {},
   "source": [
    "Now let's see if children of teen mothers have worse education than children of women who were not teen mothers.  We will need to merge in the TeenMom variable to the child data. Drop unique_motherID and rename unique_indivID.  Save only the variables unique_indivID and TeenMom in this small table."
   ]
  },
  {
   "cell_type": "code",
   "execution_count": 58,
   "metadata": {},
   "outputs": [
    {
     "data": {
      "text/html": [
       "<table border=\"1\" class=\"dataframe\">\n",
       "    <thead>\n",
       "        <tr>\n",
       "            <th>mother_uniqueid</th> <th>Teen Mom</th> <th>mother age</th>\n",
       "        </tr>\n",
       "    </thead>\n",
       "    <tbody>\n",
       "        <tr>\n",
       "            <td>1001           </td> <td>No      </td> <td>60        </td>\n",
       "        </tr>\n",
       "    </tbody>\n",
       "        <tr>\n",
       "            <td>1006           </td> <td>Yes     </td> <td>40        </td>\n",
       "        </tr>\n",
       "    </tbody>\n",
       "        <tr>\n",
       "            <td>2001           </td> <td>No      </td> <td>53        </td>\n",
       "        </tr>\n",
       "    </tbody>\n",
       "        <tr>\n",
       "            <td>2004           </td> <td>No      </td> <td>30        </td>\n",
       "        </tr>\n",
       "    </tbody>\n",
       "        <tr>\n",
       "            <td>3002           </td> <td>No      </td> <td>40        </td>\n",
       "        </tr>\n",
       "    </tbody>\n",
       "        <tr>\n",
       "            <td>4001           </td> <td>Yes     </td> <td>29        </td>\n",
       "        </tr>\n",
       "    </tbody>\n",
       "        <tr>\n",
       "            <td>5002           </td> <td>No      </td> <td>38        </td>\n",
       "        </tr>\n",
       "    </tbody>\n",
       "        <tr>\n",
       "            <td>7002           </td> <td>No      </td> <td>59        </td>\n",
       "        </tr>\n",
       "    </tbody>\n",
       "        <tr>\n",
       "            <td>7004           </td> <td>No      </td> <td>28        </td>\n",
       "        </tr>\n",
       "    </tbody>\n",
       "        <tr>\n",
       "            <td>8001           </td> <td>Yes     </td> <td>38        </td>\n",
       "        </tr>\n",
       "    </tbody>\n",
       "</table>\n",
       "<p>... (5191 rows omitted)</p>"
      ],
      "text/plain": [
       "mother_uniqueid | Teen Mom | mother age\n",
       "1001            | No       | 60\n",
       "1006            | Yes      | 40\n",
       "2001            | No       | 53\n",
       "2004            | No       | 30\n",
       "3002            | No       | 40\n",
       "4001            | Yes      | 29\n",
       "5002            | No       | 38\n",
       "7002            | No       | 59\n",
       "7004            | No       | 28\n",
       "8001            | Yes      | 38\n",
       "... (5191 rows omitted)"
      ]
     },
     "execution_count": 58,
     "metadata": {},
     "output_type": "execute_result"
    }
   ],
   "source": [
    "mother_info = mothers.select('mother_uniqueid', 'Teen Mom', 'age')\n",
    "mother_info = mother_info.relabel('...', 'mother age')\n",
    "mother_info"
   ]
  },
  {
   "cell_type": "code",
   "execution_count": 29,
   "metadata": {
    "collapsed": true
   },
   "outputs": [],
   "source": [
    "# this will be our children with mother info table, but the mother info is not yet joined.\n",
    "children_with_mother_info = colombia_roster.drop('mother_uniqueid')\n",
    "children_with_mother_info = children_with_mother_info.where('mother_id', are.above(0))\n",
    "children_with_mother_info"
   ]
  },
  {
   "cell_type": "markdown",
   "metadata": {},
   "source": [
    "Create a mother unique ID"
   ]
  },
  {
   "cell_type": "code",
   "execution_count": 59,
   "metadata": {},
   "outputs": [
    {
     "data": {
      "text/html": [
       "<table border=\"1\" class=\"dataframe\">\n",
       "    <thead>\n",
       "        <tr>\n",
       "            <th>mother_uniqueid</th> <th>hhid</th> <th>roster_id</th> <th>age</th> <th>sex</th> <th>mother_id</th> <th>education_complete</th> <th>current_grade</th> <th>unique_id</th> <th>Teen Mom</th> <th>mother age</th>\n",
       "        </tr>\n",
       "    </thead>\n",
       "    <tbody>\n",
       "        <tr>\n",
       "            <td>1001           </td> <td>1   </td> <td>6        </td> <td>40  </td> <td>Mujer </td> <td>1        </td> <td>beyond secondary  </td> <td>nan          </td> <td>1006     </td> <td>No      </td> <td>60        </td>\n",
       "        </tr>\n",
       "    </tbody>\n",
       "        <tr>\n",
       "            <td>1006           </td> <td>1   </td> <td>8        </td> <td>22  </td> <td>Hombre</td> <td>6        </td> <td>beyond secondary  </td> <td>nan          </td> <td>1008     </td> <td>Yes     </td> <td>40        </td>\n",
       "        </tr>\n",
       "    </tbody>\n",
       "        <tr>\n",
       "            <td>2001           </td> <td>2   </td> <td>2        </td> <td>25  </td> <td>Hombre</td> <td>1        </td> <td>beyond secondary  </td> <td>nan          </td> <td>2002     </td> <td>No      </td> <td>53        </td>\n",
       "        </tr>\n",
       "    </tbody>\n",
       "        <tr>\n",
       "            <td>2001           </td> <td>2   </td> <td>3        </td> <td>22  </td> <td>Mujer </td> <td>1        </td> <td>beyond secondary  </td> <td>13           </td> <td>2003     </td> <td>No      </td> <td>53        </td>\n",
       "        </tr>\n",
       "    </tbody>\n",
       "        <tr>\n",
       "            <td>2001           </td> <td>2   </td> <td>4        </td> <td>30  </td> <td>Mujer </td> <td>1        </td> <td>beyond secondary  </td> <td>nan          </td> <td>2004     </td> <td>No      </td> <td>53        </td>\n",
       "        </tr>\n",
       "    </tbody>\n",
       "        <tr>\n",
       "            <td>2004           </td> <td>2   </td> <td>5        </td> <td>6   </td> <td>Hombre</td> <td>4        </td> <td>beyond secondary  </td> <td>2            </td> <td>2005     </td> <td>No      </td> <td>30        </td>\n",
       "        </tr>\n",
       "    </tbody>\n",
       "        <tr>\n",
       "            <td>2004           </td> <td>2   </td> <td>7        </td> <td>3   </td> <td>Mujer </td> <td>4        </td> <td>beyond secondary  </td> <td>nan          </td> <td>2007     </td> <td>No      </td> <td>30        </td>\n",
       "        </tr>\n",
       "    </tbody>\n",
       "        <tr>\n",
       "            <td>3002           </td> <td>3   </td> <td>4        </td> <td>12  </td> <td>Mujer </td> <td>2        </td> <td>beyond secondary  </td> <td>7            </td> <td>3004     </td> <td>No      </td> <td>40        </td>\n",
       "        </tr>\n",
       "    </tbody>\n",
       "        <tr>\n",
       "            <td>4001           </td> <td>4   </td> <td>2        </td> <td>13  </td> <td>Hombre</td> <td>1        </td> <td>beyond secondary  </td> <td>8            </td> <td>4002     </td> <td>Yes     </td> <td>29        </td>\n",
       "        </tr>\n",
       "    </tbody>\n",
       "        <tr>\n",
       "            <td>4001           </td> <td>4   </td> <td>3        </td> <td>7   </td> <td>Mujer </td> <td>1        </td> <td>beyond secondary  </td> <td>3            </td> <td>4003     </td> <td>Yes     </td> <td>29        </td>\n",
       "        </tr>\n",
       "    </tbody>\n",
       "</table>\n",
       "<p>... (9297 rows omitted)</p>"
      ],
      "text/plain": [
       "mother_uniqueid | hhid | roster_id | age  | sex    | mother_id | education_complete | current_grade | unique_id | Teen Mom | mother age\n",
       "1001            | 1    | 6         | 40   | Mujer  | 1         | beyond secondary   | nan           | 1006      | No       | 60\n",
       "1006            | 1    | 8         | 22   | Hombre | 6         | beyond secondary   | nan           | 1008      | Yes      | 40\n",
       "2001            | 2    | 2         | 25   | Hombre | 1         | beyond secondary   | nan           | 2002      | No       | 53\n",
       "2001            | 2    | 3         | 22   | Mujer  | 1         | beyond secondary   | 13            | 2003      | No       | 53\n",
       "2001            | 2    | 4         | 30   | Mujer  | 1         | beyond secondary   | nan           | 2004      | No       | 53\n",
       "2004            | 2    | 5         | 6    | Hombre | 4         | beyond secondary   | 2             | 2005      | No       | 30\n",
       "2004            | 2    | 7         | 3    | Mujer  | 4         | beyond secondary   | nan           | 2007      | No       | 30\n",
       "3002            | 3    | 4         | 12   | Mujer  | 2         | beyond secondary   | 7             | 3004      | No       | 40\n",
       "4001            | 4    | 2         | 13   | Hombre | 1         | beyond secondary   | 8             | 4002      | Yes      | 29\n",
       "4001            | 4    | 3         | 7    | Mujer  | 1         | beyond secondary   | 3             | 4003      | Yes      | 29\n",
       "... (9297 rows omitted)"
      ]
     },
     "execution_count": 59,
     "metadata": {},
     "output_type": "execute_result"
    }
   ],
   "source": [
    "mother_uniqueid = children_with_mother_info.column('...') * 1000 + children_with_mother_info.column('...')\n",
    "children_with_mother_info = children_with_mother_info.with_column('mother_uniqueid', mother_uniqueid )\n",
    "children_with_mother_info"
   ]
  },
  {
   "cell_type": "markdown",
   "metadata": {},
   "source": [
    "Join Mother info to the Child"
   ]
  },
  {
   "cell_type": "code",
   "execution_count": 60,
   "metadata": {},
   "outputs": [
    {
     "data": {
      "text/html": [
       "<table border=\"1\" class=\"dataframe\">\n",
       "    <thead>\n",
       "        <tr>\n",
       "            <th>mother_uniqueid</th> <th>hhid</th> <th>roster_id</th> <th>age</th> <th>sex</th> <th>mother_id</th> <th>education_complete</th> <th>current_grade</th> <th>unique_id</th> <th>Teen Mom</th> <th>mother age</th> <th>Teen Mom_2</th> <th>mother age_2</th>\n",
       "        </tr>\n",
       "    </thead>\n",
       "    <tbody>\n",
       "        <tr>\n",
       "            <td>1001           </td> <td>1   </td> <td>6        </td> <td>40  </td> <td>Mujer </td> <td>1        </td> <td>beyond secondary  </td> <td>nan          </td> <td>1006     </td> <td>No      </td> <td>60        </td> <td>No        </td> <td>60          </td>\n",
       "        </tr>\n",
       "    </tbody>\n",
       "        <tr>\n",
       "            <td>1006           </td> <td>1   </td> <td>8        </td> <td>22  </td> <td>Hombre</td> <td>6        </td> <td>beyond secondary  </td> <td>nan          </td> <td>1008     </td> <td>Yes     </td> <td>40        </td> <td>Yes       </td> <td>40          </td>\n",
       "        </tr>\n",
       "    </tbody>\n",
       "        <tr>\n",
       "            <td>2001           </td> <td>2   </td> <td>2        </td> <td>25  </td> <td>Hombre</td> <td>1        </td> <td>beyond secondary  </td> <td>nan          </td> <td>2002     </td> <td>No      </td> <td>53        </td> <td>No        </td> <td>53          </td>\n",
       "        </tr>\n",
       "    </tbody>\n",
       "        <tr>\n",
       "            <td>2001           </td> <td>2   </td> <td>3        </td> <td>22  </td> <td>Mujer </td> <td>1        </td> <td>beyond secondary  </td> <td>13           </td> <td>2003     </td> <td>No      </td> <td>53        </td> <td>No        </td> <td>53          </td>\n",
       "        </tr>\n",
       "    </tbody>\n",
       "        <tr>\n",
       "            <td>2001           </td> <td>2   </td> <td>4        </td> <td>30  </td> <td>Mujer </td> <td>1        </td> <td>beyond secondary  </td> <td>nan          </td> <td>2004     </td> <td>No      </td> <td>53        </td> <td>No        </td> <td>53          </td>\n",
       "        </tr>\n",
       "    </tbody>\n",
       "        <tr>\n",
       "            <td>2004           </td> <td>2   </td> <td>5        </td> <td>6   </td> <td>Hombre</td> <td>4        </td> <td>beyond secondary  </td> <td>2            </td> <td>2005     </td> <td>No      </td> <td>30        </td> <td>No        </td> <td>30          </td>\n",
       "        </tr>\n",
       "    </tbody>\n",
       "        <tr>\n",
       "            <td>2004           </td> <td>2   </td> <td>7        </td> <td>3   </td> <td>Mujer </td> <td>4        </td> <td>beyond secondary  </td> <td>nan          </td> <td>2007     </td> <td>No      </td> <td>30        </td> <td>No        </td> <td>30          </td>\n",
       "        </tr>\n",
       "    </tbody>\n",
       "        <tr>\n",
       "            <td>3002           </td> <td>3   </td> <td>4        </td> <td>12  </td> <td>Mujer </td> <td>2        </td> <td>beyond secondary  </td> <td>7            </td> <td>3004     </td> <td>No      </td> <td>40        </td> <td>No        </td> <td>40          </td>\n",
       "        </tr>\n",
       "    </tbody>\n",
       "        <tr>\n",
       "            <td>4001           </td> <td>4   </td> <td>2        </td> <td>13  </td> <td>Hombre</td> <td>1        </td> <td>beyond secondary  </td> <td>8            </td> <td>4002     </td> <td>Yes     </td> <td>29        </td> <td>Yes       </td> <td>29          </td>\n",
       "        </tr>\n",
       "    </tbody>\n",
       "        <tr>\n",
       "            <td>4001           </td> <td>4   </td> <td>3        </td> <td>7   </td> <td>Mujer </td> <td>1        </td> <td>beyond secondary  </td> <td>3            </td> <td>4003     </td> <td>Yes     </td> <td>29        </td> <td>Yes       </td> <td>29          </td>\n",
       "        </tr>\n",
       "    </tbody>\n",
       "</table>\n",
       "<p>... (9297 rows omitted)</p>"
      ],
      "text/plain": [
       "mother_uniqueid | hhid | roster_id | age  | sex    | mother_id | education_complete | current_grade | unique_id | Teen Mom | mother age | Teen Mom_2 | mother age_2\n",
       "1001            | 1    | 6         | 40   | Mujer  | 1         | beyond secondary   | nan           | 1006      | No       | 60         | No         | 60\n",
       "1006            | 1    | 8         | 22   | Hombre | 6         | beyond secondary   | nan           | 1008      | Yes      | 40         | Yes        | 40\n",
       "2001            | 2    | 2         | 25   | Hombre | 1         | beyond secondary   | nan           | 2002      | No       | 53         | No         | 53\n",
       "2001            | 2    | 3         | 22   | Mujer  | 1         | beyond secondary   | 13            | 2003      | No       | 53         | No         | 53\n",
       "2001            | 2    | 4         | 30   | Mujer  | 1         | beyond secondary   | nan           | 2004      | No       | 53         | No         | 53\n",
       "2004            | 2    | 5         | 6    | Hombre | 4         | beyond secondary   | 2             | 2005      | No       | 30         | No         | 30\n",
       "2004            | 2    | 7         | 3    | Mujer  | 4         | beyond secondary   | nan           | 2007      | No       | 30         | No         | 30\n",
       "3002            | 3    | 4         | 12   | Mujer  | 2         | beyond secondary   | 7             | 3004      | No       | 40         | No         | 40\n",
       "4001            | 4    | 2         | 13   | Hombre | 1         | beyond secondary   | 8             | 4002      | Yes      | 29         | Yes        | 29\n",
       "4001            | 4    | 3         | 7    | Mujer  | 1         | beyond secondary   | 3             | 4003      | Yes      | 29         | Yes        | 29\n",
       "... (9297 rows omitted)"
      ]
     },
     "execution_count": 60,
     "metadata": {},
     "output_type": "execute_result"
    }
   ],
   "source": [
    "children_with_mother_info = children_with_mother_info.join('mother_uniqueid', mother_info)\n",
    "children_with_mother_info"
   ]
  },
  {
   "cell_type": "markdown",
   "metadata": {},
   "source": [
    "What percentage of children had mothers who were teen mothers?  Only consider chidlren < age 19"
   ]
  },
  {
   "cell_type": "code",
   "execution_count": 63,
   "metadata": {},
   "outputs": [
    {
     "data": {
      "text/html": [
       "<table border=\"1\" class=\"dataframe\">\n",
       "    <thead>\n",
       "        <tr>\n",
       "            <th>Teen Mom</th> <th>count</th>\n",
       "        </tr>\n",
       "    </thead>\n",
       "    <tbody>\n",
       "        <tr>\n",
       "            <td>No      </td> <td>3800 </td>\n",
       "        </tr>\n",
       "    </tbody>\n",
       "        <tr>\n",
       "            <td>Yes     </td> <td>1983 </td>\n",
       "        </tr>\n",
       "    </tbody>\n",
       "</table>"
      ],
      "text/plain": [
       "Teen Mom | count\n",
       "No       | 3800\n",
       "Yes      | 1983"
      ]
     },
     "execution_count": 63,
     "metadata": {},
     "output_type": "execute_result"
    }
   ],
   "source": [
    "children_with_mother_info.where(...)..."
   ]
  },
  {
   "cell_type": "markdown",
   "metadata": {},
   "source": [
    "Let's examine the education of the children.  Only keep the ones currently attending."
   ]
  },
  {
   "cell_type": "code",
   "execution_count": 35,
   "metadata": {},
   "outputs": [
    {
     "data": {
      "text/html": [
       "<table border=\"1\" class=\"dataframe\">\n",
       "    <thead>\n",
       "        <tr>\n",
       "            <th>mother_uniqueid</th> <th>hhid</th> <th>roster_id</th> <th>age</th> <th>sex</th> <th>mother_id</th> <th>education_complete</th> <th>current_grade</th> <th>unique_id</th> <th>Teen Mom</th> <th>mother age</th>\n",
       "        </tr>\n",
       "    </thead>\n",
       "    <tbody>\n",
       "        <tr>\n",
       "            <td>2001           </td> <td>2   </td> <td>3        </td> <td>22  </td> <td>Mujer </td> <td>1        </td> <td>beyond secondary  </td> <td>13           </td> <td>2003     </td> <td>No      </td> <td>53        </td>\n",
       "        </tr>\n",
       "    </tbody>\n",
       "        <tr>\n",
       "            <td>2004           </td> <td>2   </td> <td>5        </td> <td>6   </td> <td>Hombre</td> <td>4        </td> <td>beyond secondary  </td> <td>2            </td> <td>2005     </td> <td>No      </td> <td>30        </td>\n",
       "        </tr>\n",
       "    </tbody>\n",
       "        <tr>\n",
       "            <td>3002           </td> <td>3   </td> <td>4        </td> <td>12  </td> <td>Mujer </td> <td>2        </td> <td>beyond secondary  </td> <td>7            </td> <td>3004     </td> <td>No      </td> <td>40        </td>\n",
       "        </tr>\n",
       "    </tbody>\n",
       "        <tr>\n",
       "            <td>4001           </td> <td>4   </td> <td>2        </td> <td>13  </td> <td>Hombre</td> <td>1        </td> <td>beyond secondary  </td> <td>8            </td> <td>4002     </td> <td>Yes     </td> <td>29        </td>\n",
       "        </tr>\n",
       "    </tbody>\n",
       "        <tr>\n",
       "            <td>4001           </td> <td>4   </td> <td>3        </td> <td>7   </td> <td>Mujer </td> <td>1        </td> <td>beyond secondary  </td> <td>3            </td> <td>4003     </td> <td>Yes     </td> <td>29        </td>\n",
       "        </tr>\n",
       "    </tbody>\n",
       "        <tr>\n",
       "            <td>5002           </td> <td>5   </td> <td>3        </td> <td>7   </td> <td>Hombre</td> <td>2        </td> <td>beyond secondary  </td> <td>2            </td> <td>5003     </td> <td>No      </td> <td>38        </td>\n",
       "        </tr>\n",
       "    </tbody>\n",
       "        <tr>\n",
       "            <td>7002           </td> <td>7   </td> <td>4        </td> <td>28  </td> <td>Mujer </td> <td>2        </td> <td>beyond secondary  </td> <td>15           </td> <td>7004     </td> <td>No      </td> <td>59        </td>\n",
       "        </tr>\n",
       "    </tbody>\n",
       "        <tr>\n",
       "            <td>8001           </td> <td>8   </td> <td>5        </td> <td>16  </td> <td>Mujer </td> <td>1        </td> <td>beyond secondary  </td> <td>8            </td> <td>8005     </td> <td>Yes     </td> <td>38        </td>\n",
       "        </tr>\n",
       "    </tbody>\n",
       "        <tr>\n",
       "            <td>9001           </td> <td>9   </td> <td>2        </td> <td>16  </td> <td>Hombre</td> <td>1        </td> <td>beyond secondary  </td> <td>10           </td> <td>9002     </td> <td>Yes     </td> <td>35        </td>\n",
       "        </tr>\n",
       "    </tbody>\n",
       "        <tr>\n",
       "            <td>9001           </td> <td>9   </td> <td>3        </td> <td>7   </td> <td>Hombre</td> <td>1        </td> <td>beyond secondary  </td> <td>2            </td> <td>9003     </td> <td>Yes     </td> <td>35        </td>\n",
       "        </tr>\n",
       "    </tbody>\n",
       "</table>\n",
       "<p>... (4868 rows omitted)</p>"
      ],
      "text/plain": [
       "mother_uniqueid | hhid | roster_id | age  | sex    | mother_id | education_complete | current_grade | unique_id | Teen Mom | mother age\n",
       "2001            | 2    | 3         | 22   | Mujer  | 1         | beyond secondary   | 13            | 2003      | No       | 53\n",
       "2004            | 2    | 5         | 6    | Hombre | 4         | beyond secondary   | 2             | 2005      | No       | 30\n",
       "3002            | 3    | 4         | 12   | Mujer  | 2         | beyond secondary   | 7             | 3004      | No       | 40\n",
       "4001            | 4    | 2         | 13   | Hombre | 1         | beyond secondary   | 8             | 4002      | Yes      | 29\n",
       "4001            | 4    | 3         | 7    | Mujer  | 1         | beyond secondary   | 3             | 4003      | Yes      | 29\n",
       "5002            | 5    | 3         | 7    | Hombre | 2         | beyond secondary   | 2             | 5003      | No       | 38\n",
       "7002            | 7    | 4         | 28   | Mujer  | 2         | beyond secondary   | 15            | 7004      | No       | 59\n",
       "8001            | 8    | 5         | 16   | Mujer  | 1         | beyond secondary   | 8             | 8005      | Yes      | 38\n",
       "9001            | 9    | 2         | 16   | Hombre | 1         | beyond secondary   | 10            | 9002      | Yes      | 35\n",
       "9001            | 9    | 3         | 7    | Hombre | 1         | beyond secondary   | 2             | 9003      | Yes      | 35\n",
       "... (4868 rows omitted)"
      ]
     },
     "execution_count": 35,
     "metadata": {},
     "output_type": "execute_result"
    }
   ],
   "source": [
    "enrolled_children = children_with_mother_info.where('...', are.above(0))\n",
    "enrolled_children"
   ]
  },
  {
   "cell_type": "markdown",
   "metadata": {},
   "source": [
    "Find the average grade for each age."
   ]
  },
  {
   "cell_type": "code",
   "execution_count": 36,
   "metadata": {},
   "outputs": [
    {
     "data": {
      "text/html": [
       "<table border=\"1\" class=\"dataframe\">\n",
       "    <thead>\n",
       "        <tr>\n",
       "            <th>age</th> <th>mean grade</th>\n",
       "        </tr>\n",
       "    </thead>\n",
       "    <tbody>\n",
       "        <tr>\n",
       "            <td>5   </td> <td>1         </td>\n",
       "        </tr>\n",
       "    </tbody>\n",
       "        <tr>\n",
       "            <td>6   </td> <td>1.14828   </td>\n",
       "        </tr>\n",
       "    </tbody>\n",
       "        <tr>\n",
       "            <td>7   </td> <td>1.92711   </td>\n",
       "        </tr>\n",
       "    </tbody>\n",
       "        <tr>\n",
       "            <td>8   </td> <td>2.82514   </td>\n",
       "        </tr>\n",
       "    </tbody>\n",
       "        <tr>\n",
       "            <td>9   </td> <td>3.63662   </td>\n",
       "        </tr>\n",
       "    </tbody>\n",
       "        <tr>\n",
       "            <td>10  </td> <td>4.49284   </td>\n",
       "        </tr>\n",
       "    </tbody>\n",
       "        <tr>\n",
       "            <td>11  </td> <td>5.4139    </td>\n",
       "        </tr>\n",
       "    </tbody>\n",
       "        <tr>\n",
       "            <td>12  </td> <td>6.37537   </td>\n",
       "        </tr>\n",
       "    </tbody>\n",
       "        <tr>\n",
       "            <td>13  </td> <td>7.22316   </td>\n",
       "        </tr>\n",
       "    </tbody>\n",
       "        <tr>\n",
       "            <td>14  </td> <td>8.08772   </td>\n",
       "        </tr>\n",
       "    </tbody>\n",
       "</table>\n",
       "<p>... (4 rows omitted)</p>"
      ],
      "text/plain": [
       "age  | mean grade\n",
       "5    | 1\n",
       "6    | 1.14828\n",
       "7    | 1.92711\n",
       "8    | 2.82514\n",
       "9    | 3.63662\n",
       "10   | 4.49284\n",
       "11   | 5.4139\n",
       "12   | 6.37537\n",
       "13   | 7.22316\n",
       "14   | 8.08772\n",
       "... (4 rows omitted)"
      ]
     },
     "execution_count": 36,
     "metadata": {},
     "output_type": "execute_result"
    }
   ],
   "source": [
    "mean_grade_enrolled_children = enrolled_children.group('...', np.mean).select('age', 'current_grade mean')\n",
    "mean_grade_enrolled_children = mean_grade_enrolled_children.relabel('current_grade mean', 'mean grade')\n",
    "mean_grade_enrolled_children = mean_grade_enrolled_children.where('...', are.below(19))\n",
    "mean_grade_enrolled_children"
   ]
  },
  {
   "cell_type": "markdown",
   "metadata": {},
   "source": [
    "Join that mean grade to the child & their actual grade."
   ]
  },
  {
   "cell_type": "code",
   "execution_count": 37,
   "metadata": {},
   "outputs": [
    {
     "data": {
      "text/html": [
       "<table border=\"1\" class=\"dataframe\">\n",
       "    <thead>\n",
       "        <tr>\n",
       "            <th>age</th> <th>mother_uniqueid</th> <th>hhid</th> <th>roster_id</th> <th>sex</th> <th>mother_id</th> <th>education_complete</th> <th>current_grade</th> <th>unique_id</th> <th>Teen Mom</th> <th>mother age</th> <th>mean grade</th>\n",
       "        </tr>\n",
       "    </thead>\n",
       "    <tbody>\n",
       "        <tr>\n",
       "            <td>5   </td> <td>687003         </td> <td>687 </td> <td>5        </td> <td>Mujer </td> <td>3        </td> <td>beyond secondary  </td> <td>1            </td> <td>687005   </td> <td>No      </td> <td>37        </td> <td>1         </td>\n",
       "        </tr>\n",
       "    </tbody>\n",
       "        <tr>\n",
       "            <td>5   </td> <td>1.19e+06       </td> <td>1190</td> <td>5        </td> <td>Hombre</td> <td>2        </td> <td>beyond secondary  </td> <td>1            </td> <td>1190005  </td> <td>No      </td> <td>33        </td> <td>1         </td>\n",
       "        </tr>\n",
       "    </tbody>\n",
       "        <tr>\n",
       "            <td>5   </td> <td>1.479e+06      </td> <td>1479</td> <td>4        </td> <td>Hombre</td> <td>2        </td> <td>beyond secondary  </td> <td>1            </td> <td>1479004  </td> <td>Yes     </td> <td>30        </td> <td>1         </td>\n",
       "        </tr>\n",
       "    </tbody>\n",
       "        <tr>\n",
       "            <td>5   </td> <td>2.283e+06      </td> <td>2283</td> <td>5        </td> <td>Mujer </td> <td>1        </td> <td>beyond secondary  </td> <td>1            </td> <td>2283005  </td> <td>No      </td> <td>46        </td> <td>1         </td>\n",
       "        </tr>\n",
       "    </tbody>\n",
       "        <tr>\n",
       "            <td>5   </td> <td>4.623e+06      </td> <td>4623</td> <td>5        </td> <td>Mujer </td> <td>3        </td> <td>beyond secondary  </td> <td>1            </td> <td>4623005  </td> <td>Yes     </td> <td>26        </td> <td>1         </td>\n",
       "        </tr>\n",
       "    </tbody>\n",
       "        <tr>\n",
       "            <td>6   </td> <td>2004           </td> <td>2   </td> <td>5        </td> <td>Hombre</td> <td>4        </td> <td>beyond secondary  </td> <td>2            </td> <td>2005     </td> <td>No      </td> <td>30        </td> <td>1.14828   </td>\n",
       "        </tr>\n",
       "    </tbody>\n",
       "        <tr>\n",
       "            <td>6   </td> <td>27007          </td> <td>27  </td> <td>8        </td> <td>Hombre</td> <td>7        </td> <td>beyond secondary  </td> <td>1            </td> <td>27008    </td> <td>No      </td> <td>31        </td> <td>1.14828   </td>\n",
       "        </tr>\n",
       "    </tbody>\n",
       "        <tr>\n",
       "            <td>6   </td> <td>27007          </td> <td>27  </td> <td>9        </td> <td>Hombre</td> <td>7        </td> <td>beyond secondary  </td> <td>1            </td> <td>27009    </td> <td>No      </td> <td>31        </td> <td>1.14828   </td>\n",
       "        </tr>\n",
       "    </tbody>\n",
       "        <tr>\n",
       "            <td>6   </td> <td>36002          </td> <td>36  </td> <td>4        </td> <td>Mujer </td> <td>2        </td> <td>beyond secondary  </td> <td>1            </td> <td>36004    </td> <td>No      </td> <td>31        </td> <td>1.14828   </td>\n",
       "        </tr>\n",
       "    </tbody>\n",
       "        <tr>\n",
       "            <td>6   </td> <td>51002          </td> <td>51  </td> <td>4        </td> <td>Hombre</td> <td>2        </td> <td>beyond secondary  </td> <td>1            </td> <td>51004    </td> <td>Yes     </td> <td>28        </td> <td>1.14828   </td>\n",
       "        </tr>\n",
       "    </tbody>\n",
       "</table>\n",
       "<p>... (4080 rows omitted)</p>"
      ],
      "text/plain": [
       "age  | mother_uniqueid | hhid | roster_id | sex    | mother_id | education_complete | current_grade | unique_id | Teen Mom | mother age | mean grade\n",
       "5    | 687003          | 687  | 5         | Mujer  | 3         | beyond secondary   | 1             | 687005    | No       | 37         | 1\n",
       "5    | 1.19e+06        | 1190 | 5         | Hombre | 2         | beyond secondary   | 1             | 1190005   | No       | 33         | 1\n",
       "5    | 1.479e+06       | 1479 | 4         | Hombre | 2         | beyond secondary   | 1             | 1479004   | Yes      | 30         | 1\n",
       "5    | 2.283e+06       | 2283 | 5         | Mujer  | 1         | beyond secondary   | 1             | 2283005   | No       | 46         | 1\n",
       "5    | 4.623e+06       | 4623 | 5         | Mujer  | 3         | beyond secondary   | 1             | 4623005   | Yes      | 26         | 1\n",
       "6    | 2004            | 2    | 5         | Hombre | 4         | beyond secondary   | 2             | 2005      | No       | 30         | 1.14828\n",
       "6    | 27007           | 27   | 8         | Hombre | 7         | beyond secondary   | 1             | 27008     | No       | 31         | 1.14828\n",
       "6    | 27007           | 27   | 9         | Hombre | 7         | beyond secondary   | 1             | 27009     | No       | 31         | 1.14828\n",
       "6    | 36002           | 36   | 4         | Mujer  | 2         | beyond secondary   | 1             | 36004     | No       | 31         | 1.14828\n",
       "6    | 51002           | 51   | 4         | Hombre | 2         | beyond secondary   | 1             | 51004     | Yes      | 28         | 1.14828\n",
       "... (4080 rows omitted)"
      ]
     },
     "execution_count": 37,
     "metadata": {},
     "output_type": "execute_result"
    }
   ],
   "source": [
    "enrolled_children = enrolled_children.join('age', mean_grade_enrolled_children, 'age')\n",
    "enrolled_children"
   ]
  },
  {
   "cell_type": "markdown",
   "metadata": {},
   "source": [
    "Calculate if the child is delayed by more than 1 year for their age."
   ]
  },
  {
   "cell_type": "code",
   "execution_count": 38,
   "metadata": {},
   "outputs": [
    {
     "data": {
      "text/plain": [
       "array([ 1.     ,  1.     ,  1.     , ..., -7.76875,  3.23125,  2.23125])"
      ]
     },
     "execution_count": 38,
     "metadata": {},
     "output_type": "execute_result"
    }
   ],
   "source": [
    "delayed_edu = (enrolled_children.column('current_grade') + ...) - enrolled_children.column('mean grade')\n",
    "delayed_edu"
   ]
  },
  {
   "cell_type": "code",
   "execution_count": 39,
   "metadata": {},
   "outputs": [
    {
     "data": {
      "text/html": [
       "<table border=\"1\" class=\"dataframe\">\n",
       "    <thead>\n",
       "        <tr>\n",
       "            <th>age</th> <th>mother_uniqueid</th> <th>hhid</th> <th>roster_id</th> <th>sex</th> <th>mother_id</th> <th>education_complete</th> <th>current_grade</th> <th>unique_id</th> <th>Teen Mom</th> <th>mother age</th> <th>mean grade</th> <th>delayed</th>\n",
       "        </tr>\n",
       "    </thead>\n",
       "    <tbody>\n",
       "        <tr>\n",
       "            <td>5   </td> <td>687003         </td> <td>687 </td> <td>5        </td> <td>Mujer </td> <td>3        </td> <td>beyond secondary  </td> <td>1            </td> <td>687005   </td> <td>No      </td> <td>37        </td> <td>1         </td> <td>No     </td>\n",
       "        </tr>\n",
       "    </tbody>\n",
       "        <tr>\n",
       "            <td>5   </td> <td>1.19e+06       </td> <td>1190</td> <td>5        </td> <td>Hombre</td> <td>2        </td> <td>beyond secondary  </td> <td>1            </td> <td>1190005  </td> <td>No      </td> <td>33        </td> <td>1         </td> <td>No     </td>\n",
       "        </tr>\n",
       "    </tbody>\n",
       "        <tr>\n",
       "            <td>5   </td> <td>1.479e+06      </td> <td>1479</td> <td>4        </td> <td>Hombre</td> <td>2        </td> <td>beyond secondary  </td> <td>1            </td> <td>1479004  </td> <td>Yes     </td> <td>30        </td> <td>1         </td> <td>No     </td>\n",
       "        </tr>\n",
       "    </tbody>\n",
       "        <tr>\n",
       "            <td>5   </td> <td>2.283e+06      </td> <td>2283</td> <td>5        </td> <td>Mujer </td> <td>1        </td> <td>beyond secondary  </td> <td>1            </td> <td>2283005  </td> <td>No      </td> <td>46        </td> <td>1         </td> <td>No     </td>\n",
       "        </tr>\n",
       "    </tbody>\n",
       "        <tr>\n",
       "            <td>5   </td> <td>4.623e+06      </td> <td>4623</td> <td>5        </td> <td>Mujer </td> <td>3        </td> <td>beyond secondary  </td> <td>1            </td> <td>4623005  </td> <td>Yes     </td> <td>26        </td> <td>1         </td> <td>No     </td>\n",
       "        </tr>\n",
       "    </tbody>\n",
       "        <tr>\n",
       "            <td>6   </td> <td>2004           </td> <td>2   </td> <td>5        </td> <td>Hombre</td> <td>4        </td> <td>beyond secondary  </td> <td>2            </td> <td>2005     </td> <td>No      </td> <td>30        </td> <td>1.14828   </td> <td>No     </td>\n",
       "        </tr>\n",
       "    </tbody>\n",
       "        <tr>\n",
       "            <td>6   </td> <td>27007          </td> <td>27  </td> <td>8        </td> <td>Hombre</td> <td>7        </td> <td>beyond secondary  </td> <td>1            </td> <td>27008    </td> <td>No      </td> <td>31        </td> <td>1.14828   </td> <td>No     </td>\n",
       "        </tr>\n",
       "    </tbody>\n",
       "        <tr>\n",
       "            <td>6   </td> <td>27007          </td> <td>27  </td> <td>9        </td> <td>Hombre</td> <td>7        </td> <td>beyond secondary  </td> <td>1            </td> <td>27009    </td> <td>No      </td> <td>31        </td> <td>1.14828   </td> <td>No     </td>\n",
       "        </tr>\n",
       "    </tbody>\n",
       "        <tr>\n",
       "            <td>6   </td> <td>36002          </td> <td>36  </td> <td>4        </td> <td>Mujer </td> <td>2        </td> <td>beyond secondary  </td> <td>1            </td> <td>36004    </td> <td>No      </td> <td>31        </td> <td>1.14828   </td> <td>No     </td>\n",
       "        </tr>\n",
       "    </tbody>\n",
       "        <tr>\n",
       "            <td>6   </td> <td>51002          </td> <td>51  </td> <td>4        </td> <td>Hombre</td> <td>2        </td> <td>beyond secondary  </td> <td>1            </td> <td>51004    </td> <td>Yes     </td> <td>28        </td> <td>1.14828   </td> <td>No     </td>\n",
       "        </tr>\n",
       "    </tbody>\n",
       "</table>\n",
       "<p>... (4080 rows omitted)</p>"
      ],
      "text/plain": [
       "age  | mother_uniqueid | hhid | roster_id | sex    | mother_id | education_complete | current_grade | unique_id | Teen Mom | mother age | mean grade | delayed\n",
       "5    | 687003          | 687  | 5         | Mujer  | 3         | beyond secondary   | 1             | 687005    | No       | 37         | 1          | No\n",
       "5    | 1.19e+06        | 1190 | 5         | Hombre | 2         | beyond secondary   | 1             | 1190005   | No       | 33         | 1          | No\n",
       "5    | 1.479e+06       | 1479 | 4         | Hombre | 2         | beyond secondary   | 1             | 1479004   | Yes      | 30         | 1          | No\n",
       "5    | 2.283e+06       | 2283 | 5         | Mujer  | 1         | beyond secondary   | 1             | 2283005   | No       | 46         | 1          | No\n",
       "5    | 4.623e+06       | 4623 | 5         | Mujer  | 3         | beyond secondary   | 1             | 4623005   | Yes      | 26         | 1          | No\n",
       "6    | 2004            | 2    | 5         | Hombre | 4         | beyond secondary   | 2             | 2005      | No       | 30         | 1.14828    | No\n",
       "6    | 27007           | 27   | 8         | Hombre | 7         | beyond secondary   | 1             | 27008     | No       | 31         | 1.14828    | No\n",
       "6    | 27007           | 27   | 9         | Hombre | 7         | beyond secondary   | 1             | 27009     | No       | 31         | 1.14828    | No\n",
       "6    | 36002           | 36   | 4         | Mujer  | 2         | beyond secondary   | 1             | 36004     | No       | 31         | 1.14828    | No\n",
       "6    | 51002           | 51   | 4         | Hombre | 2         | beyond secondary   | 1             | 51004     | Yes      | 28         | 1.14828    | No\n",
       "... (4080 rows omitted)"
      ]
     },
     "execution_count": 39,
     "metadata": {},
     "output_type": "execute_result"
    }
   ],
   "source": [
    "delayed = []\n",
    "for i in delayed_edu:\n",
    "    if i < 0:\n",
    "        delayed.append('Yes')\n",
    "    else:\n",
    "        delayed.append('No')\n",
    "enrolled_children = enrolled_children.with_column('delayed', delayed)\n",
    "enrolled_children"
   ]
  },
  {
   "cell_type": "markdown",
   "metadata": {},
   "source": [
    "Are children of teen moms more or less likely to be enrolled?"
   ]
  },
  {
   "cell_type": "code",
   "execution_count": 40,
   "metadata": {},
   "outputs": [
    {
     "data": {
      "text/html": [
       "<table border=\"1\" class=\"dataframe\">\n",
       "    <thead>\n",
       "        <tr>\n",
       "            <th>delayed</th> <th>count</th>\n",
       "        </tr>\n",
       "    </thead>\n",
       "    <tbody>\n",
       "        <tr>\n",
       "            <td>No     </td> <td>1129 </td>\n",
       "        </tr>\n",
       "    </tbody>\n",
       "        <tr>\n",
       "            <td>Yes    </td> <td>234  </td>\n",
       "        </tr>\n",
       "    </tbody>\n",
       "</table>"
      ],
      "text/plain": [
       "delayed | count\n",
       "No      | 1129\n",
       "Yes     | 234"
      ]
     },
     "execution_count": 40,
     "metadata": {},
     "output_type": "execute_result"
    }
   ],
   "source": [
    "enrolled_children.where('...', '...').group('...')"
   ]
  },
  {
   "cell_type": "code",
   "execution_count": 41,
   "metadata": {},
   "outputs": [
    {
     "data": {
      "text/html": [
       "<table border=\"1\" class=\"dataframe\">\n",
       "    <thead>\n",
       "        <tr>\n",
       "            <th>delayed</th> <th>count</th>\n",
       "        </tr>\n",
       "    </thead>\n",
       "    <tbody>\n",
       "        <tr>\n",
       "            <td>No     </td> <td>2372 </td>\n",
       "        </tr>\n",
       "    </tbody>\n",
       "        <tr>\n",
       "            <td>Yes    </td> <td>355  </td>\n",
       "        </tr>\n",
       "    </tbody>\n",
       "</table>"
      ],
      "text/plain": [
       "delayed | count\n",
       "No      | 2372\n",
       "Yes     | 355"
      ]
     },
     "execution_count": 41,
     "metadata": {},
     "output_type": "execute_result"
    }
   ],
   "source": []
  }
 ],
 "metadata": {
  "anaconda-cloud": {},
  "kernelspec": {
   "display_name": "Python 3",
   "language": "python",
   "name": "python3"
  },
  "language_info": {
   "codemirror_mode": {
    "name": "ipython",
    "version": 3
   },
   "file_extension": ".py",
   "mimetype": "text/x-python",
   "name": "python",
   "nbconvert_exporter": "python",
   "pygments_lexer": "ipython3",
   "version": "3.6.3"
  }
 },
 "nbformat": 4,
 "nbformat_minor": 1
}
