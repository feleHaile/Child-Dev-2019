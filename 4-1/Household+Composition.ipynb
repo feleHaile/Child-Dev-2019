{
 "cells": [
  {
   "cell_type": "code",
   "execution_count": null,
   "metadata": {
    "collapsed": true
   },
   "outputs": [],
   "source": [
    "# make sure to run this cell\n",
    "from datascience import *\n",
    "import numpy as np\n",
    "import pandas as pd\n",
    "import matplotlib.pyplot as plt\n",
    "import warnings\n",
    "\n",
    "%matplotlib inline\n",
    "plt.style.use('fivethirtyeight')\n",
    "warnings.simplefilter(action=\"ignore\", category=FutureWarning)"
   ]
  },
  {
   "cell_type": "markdown",
   "metadata": {},
   "source": [
    "# Household Composition\n",
    "\n",
    "1. [Household Size](#size)\n",
    "2. [Age Composition](#age)\n",
    "3. [Sex & Age Composition](#sexage)\n",
    "\n",
    "Use our class survey files to practice generating variables related to household composition.\n",
    "\n",
    "For your reference:\n",
    "Head=1\n",
    "Spouse=2\n",
    "Son/daughter=3\n",
    "Mother/father=4\n",
    "Other relative=5"
   ]
  },
  {
   "cell_type": "markdown",
   "metadata": {},
   "source": [
    "### Household Size <a id='size'></a>"
   ]
  },
  {
   "cell_type": "code",
   "execution_count": null,
   "metadata": {},
   "outputs": [],
   "source": [
    "survey=Table.read_table('Household Survey 2019.csv')\n",
    "survey"
   ]
  },
  {
   "cell_type": "code",
   "execution_count": null,
   "metadata": {},
   "outputs": [],
   "source": [
    "roster=Table.read_table('Household Roster 2019.csv')\n",
    "roster"
   ]
  },
  {
   "cell_type": "code",
   "execution_count": null,
   "metadata": {},
   "outputs": [],
   "source": [
    "roster.group('HH ID')"
   ]
  },
  {
   "cell_type": "code",
   "execution_count": null,
   "metadata": {},
   "outputs": [],
   "source": [
    "size=roster.group('HH ID')\n",
    "size"
   ]
  },
  {
   "cell_type": "code",
   "execution_count": null,
   "metadata": {},
   "outputs": [],
   "source": [
    "size=size.relabel('count','HH size')\n",
    "size"
   ]
  },
  {
   "cell_type": "code",
   "execution_count": null,
   "metadata": {},
   "outputs": [],
   "source": [
    "roster=roster.join('HH ID', size)\n",
    "roster"
   ]
  },
  {
   "cell_type": "markdown",
   "metadata": {},
   "source": [
    "### Age composition <a id='age'></a>\n",
    "\n",
    "Determine what percentage are in each age group.\n",
    "First, make a new column indicating which age group bin the person falls into."
   ]
  },
  {
   "cell_type": "code",
   "execution_count": null,
   "metadata": {},
   "outputs": [],
   "source": [
    "categories=make_array()\n",
    "for age in roster.column('Age'):\n",
    "    if age<10:\n",
    "        categories=np.append(categories, 1)\n",
    "    elif age<19:\n",
    "        categories=np.append(categories, 2)\n",
    "    elif age<56:\n",
    "        categories=np.append(categories, 3)\n",
    "    else:\n",
    "        categories=np.append(categories, 4)\n",
    "\n",
    "roster=roster.with_column('Categories', categories)\n",
    "roster"
   ]
  },
  {
   "cell_type": "markdown",
   "metadata": {},
   "source": [
    "Pivot to find out how many are in each age group."
   ]
  },
  {
   "cell_type": "code",
   "execution_count": null,
   "metadata": {},
   "outputs": [],
   "source": [
    "Category_small=roster.pivot('Categories', 'HH ID')\n",
    "Category_small"
   ]
  },
  {
   "cell_type": "markdown",
   "metadata": {},
   "source": [
    "Rename the column titles"
   ]
  },
  {
   "cell_type": "code",
   "execution_count": null,
   "metadata": {},
   "outputs": [],
   "source": [
    "Category_small=Category_small.relabel('1.0','Under 10')\n",
    "Category_small=Category_small.relabel('2.0','10-19')\n",
    "Category_small=Category_small.relabel('3.0','20-55')\n",
    "Category_small=Category_small.relabel('4.0','56+')\n",
    "Category_small"
   ]
  },
  {
   "cell_type": "markdown",
   "metadata": {},
   "source": [
    "Replace these columns with percentages instead of counts.  Use the HH size variable we created to generate percentages."
   ]
  },
  {
   "cell_type": "code",
   "execution_count": null,
   "metadata": {},
   "outputs": [],
   "source": [
    "roster=roster.join('HH ID', Category_small)\n",
    "roster['Percent Under 10']=(roster['Under 10']/roster['HH size'])*100\n",
    "roster['Percent 10-19']=(roster['10-19']/roster['HH size'])*100\n",
    "roster['Percent 20-55']=(roster['20-55']/roster['HH size'])*100\n",
    "roster['Percent 56+']=(roster['56+']/roster['HH size'])*100"
   ]
  },
  {
   "cell_type": "code",
   "execution_count": null,
   "metadata": {},
   "outputs": [],
   "source": [
    "roster.show(10)"
   ]
  },
  {
   "cell_type": "code",
   "execution_count": null,
   "metadata": {},
   "outputs": [],
   "source": [
    "roster.group('Sex F=1; M=0')"
   ]
  },
  {
   "cell_type": "markdown",
   "metadata": {},
   "source": [
    "### Sex and age composition <a id='sexage'></a>\n",
    "\n",
    "Let's take this one step further: determine how many are in each age group by sex."
   ]
  },
  {
   "cell_type": "code",
   "execution_count": null,
   "metadata": {
    "collapsed": true
   },
   "outputs": [],
   "source": [
    "males=roster.where(\"Sex F=1; M=0\", are.equal_to(0))\n",
    "females=roster.where(\"Sex F=1; M=0\", are.equal_to(1))"
   ]
  },
  {
   "cell_type": "code",
   "execution_count": null,
   "metadata": {},
   "outputs": [],
   "source": [
    "Category_small_m=males.pivot('Categories', 'HH ID')\n",
    "## no young boys! \n",
    "#Category_small_m=Category_small.relabel('1.0','Under 10')\n",
    "Category_small_m=Category_small_m.relabel('2.0','males 10-19')\n",
    "Category_small_m=Category_small_m.relabel('3.0','males 20-55')\n",
    "Category_small_m=Category_small_m.relabel('4.0','males 56+')\n",
    "Category_small_m"
   ]
  },
  {
   "cell_type": "code",
   "execution_count": null,
   "metadata": {},
   "outputs": [],
   "source": [
    "Category_small_f=females.pivot('Categories', 'HH ID')\n",
    "# No young girls either!\n",
    "# Category_small_f=Category_small_f.relabel('1.0','females Under 10')\n",
    "Category_small_f=Category_small_f.relabel('2.0','females 10-19')\n",
    "Category_small_f=Category_small_f.relabel('3.0','females 20-55')\n",
    "Category_small_f=Category_small_f.relabel('4.0','females 56+')\n",
    "Category_small_f"
   ]
  },
  {
   "cell_type": "code",
   "execution_count": null,
   "metadata": {},
   "outputs": [],
   "source": [
    "roster_m=roster.join('HH ID', Category_small_m)\n",
    "roster_mf=roster_m.join('HH ID', Category_small_f)\n",
    "roster_mf"
   ]
  },
  {
   "cell_type": "code",
   "execution_count": null,
   "metadata": {
    "collapsed": true
   },
   "outputs": [],
   "source": [
    "#optional - could make each of these categories a percent of household size\n",
    "#roster_mf=roster_mf.with_column('Percent Females Under 10', 'females under 10'/'HH size')"
   ]
  },
  {
   "cell_type": "markdown",
   "metadata": {},
   "source": [
    "Or try this method!  - which configuration do you like best?"
   ]
  },
  {
   "cell_type": "code",
   "execution_count": null,
   "metadata": {},
   "outputs": [],
   "source": [
    "doublepivot=roster.pivot('HH ID',['Sex F=1; M=0','Categories'])\n",
    "doublepivot.show()"
   ]
  },
  {
   "cell_type": "code",
   "execution_count": null,
   "metadata": {},
   "outputs": [],
   "source": [
    "doublepivot=roster.pivot('Sex F=1; M=0',['HH ID','Categories'])\n",
    "doublepivot.show()"
   ]
  },
  {
   "cell_type": "markdown",
   "metadata": {},
   "source": [
    "For these types of joins, will we ever need the left join?"
   ]
  },
  {
   "cell_type": "code",
   "execution_count": null,
   "metadata": {
    "collapsed": true
   },
   "outputs": [],
   "source": []
  }
 ],
 "metadata": {
  "kernelspec": {
   "display_name": "Python 3",
   "language": "python",
   "name": "python3"
  },
  "language_info": {
   "codemirror_mode": {
    "name": "ipython",
    "version": 3
   },
   "file_extension": ".py",
   "mimetype": "text/x-python",
   "name": "python",
   "nbconvert_exporter": "python",
   "pygments_lexer": "ipython3",
   "version": "3.6.3"
  }
 },
 "nbformat": 4,
 "nbformat_minor": 2
}
