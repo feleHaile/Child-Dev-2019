{
 "cells": [
  {
   "cell_type": "code",
   "execution_count": null,
   "metadata": {
    "collapsed": true
   },
   "outputs": [],
   "source": [
    "# run this cell\n",
    "from datascience import *\n",
    "from pandas import read_stata\n",
    "import numpy as np\n",
    "\n",
    "import matplotlib\n",
    "matplotlib.use('Agg', warn=False)\n",
    "%matplotlib inline\n",
    "import matplotlib.pyplot as plots\n",
    "plots.style.use('fivethirtyeight')\n",
    "import warnings\n",
    "warnings.simplefilter(action=\"ignore\", category=FutureWarning)"
   ]
  },
  {
   "attachments": {},
   "cell_type": "markdown",
   "metadata": {},
   "source": [
    "How do children grow?  We will look at the growth patterns of the Young Lives children by age.  With your partner, upload the longitudinal young lives data file from the country you have been assigned.\n",
    "\n",
    "Ethiopia: Pooja, Jorge, & Laila\n",
    "\n",
    "India: Jennie, Andrea & Prof. Reynolds\n",
    "\n",
    "Peru: Luke, Jiwon, & Ana\n",
    "\n",
    "Vietnam: Sana & Phoebe"
   ]
  },
  {
   "cell_type": "code",
   "execution_count": null,
   "metadata": {},
   "outputs": [],
   "source": [
    "data=Table.read_table(...)\n",
    "data.show(5)"
   ]
  },
  {
   "cell_type": "code",
   "execution_count": null,
   "metadata": {},
   "outputs": [],
   "source": [
    "#Make a scatter plot of child height by child age.\n",
    "data.select(['..', '...']).scatter('...')\n",
    "#Make a scatter plot of child weight by child age.\n",
    "..."
   ]
  },
  {
   "cell_type": "code",
   "execution_count": null,
   "metadata": {},
   "outputs": [],
   "source": [
    "#Now let's look at height for the yougner cohort at age 1 \n",
    "data.where('round',1).where('yc',\"Younger cohort\").select([..., ...]).scatter('agemon')"
   ]
  },
  {
   "cell_type": "code",
   "execution_count": null,
   "metadata": {},
   "outputs": [],
   "source": [
    "#contrast this to height for the older cohort at age 20 (round 4)\n",
    "data.where('round',4).where('yc',\"Older cohort\").select([..., ...]).scatter('agemon')"
   ]
  },
  {
   "cell_type": "markdown",
   "metadata": {},
   "source": [
    "Make a scatter plot with different dot colors to contrast the height of girls and boys (using all ages & rounds)"
   ]
  },
  {
   "cell_type": "code",
   "execution_count": null,
   "metadata": {
    "collapsed": true
   },
   "outputs": [],
   "source": [
    "#Select just the females' height and age \n",
    "girls = data.where(..., ...).select(..., ...)\n",
    "\n",
    "#Select just the males' height and age\n",
    "boys= data.where(..., ...).select(..., ...)"
   ]
  },
  {
   "cell_type": "code",
   "execution_count": null,
   "metadata": {},
   "outputs": [],
   "source": [
    "fig = plots.figure()\n",
    "ax1 = fig.add_subplot(111)\n",
    "ax1.scatter(girls.column('agemon'), girls.column('chheight'), c='red', label='girls')\n",
    "ax1.scatter(boys.column('agemon'),boys.column('chheight'), c='blue', label='boys')\n",
    "plots.legend(loc='upper left');\n",
    "plots.show()"
   ]
  },
  {
   "cell_type": "markdown",
   "metadata": {},
   "source": [
    "Drop extreme outliers."
   ]
  },
  {
   "cell_type": "code",
   "execution_count": null,
   "metadata": {},
   "outputs": [],
   "source": [
    "#Clean date so it does not include nans\n",
    "cleaned_chheight = ...\n",
    "\n",
    "#Calculate the standard deviaion\n",
    "std = ...\n",
    "\n",
    "#Calculate the mean\n",
    "mean = ...\n",
    "\n",
    "#Calculate the standard units for each height\n",
    "standard_units = ...\n",
    "\n",
    "#Add the standard units in a new column of the cleaned_chheight table\n",
    "new_cleaned = cleaned_chheight.with_column('standard units', standard_units)\n",
    "\n",
    "#Remove outliers and make a new scatter plot \n",
    "cleaned_without_outliers = new_cleaned.where('standard units', are.between(-2, 2))\n",
    "new_cleaned.scatter('agemon', 'chheight')"
   ]
  },
  {
   "cell_type": "markdown",
   "metadata": {},
   "source": [
    "Make a scatter plot of HAZ by child age."
   ]
  },
  {
   "cell_type": "code",
   "execution_count": null,
   "metadata": {},
   "outputs": [],
   "source": [
    "data.scatter('...', '...')"
   ]
  },
  {
   "cell_type": "markdown",
   "metadata": {},
   "source": [
    "# Reorganize the data to examine longitudinal height trajectories"
   ]
  },
  {
   "cell_type": "code",
   "execution_count": null,
   "metadata": {
    "collapsed": true
   },
   "outputs": [],
   "source": [
    "dropped_rows = data.select(..., ..., ..., ..., ...)\n",
    "longitudinal = dropped_rows.where('round', 1)\n",
    "\n",
    "for rnd in [2, 3, 4]:\n",
    "    selected_round = dropped_rows.where('round', rnd)\n",
    "    selected_round = selected_round.relabeled('chheight', 'chheight' + str(rnd)).relabeled('zhfa', 'zhfa' + str(rnd)).relabeled('agemon', 'agemon' + str(rnd))\n",
    "    longitudinal = longitudinal.join('...', selected_round)\n",
    "\n",
    "longitudinal"
   ]
  },
  {
   "cell_type": "markdown",
   "metadata": {},
   "source": [
    "Make a scatter plot of HAZ at round 1 with HAZ at round 4.  What conclusions can you make?  Only use the younger cohort."
   ]
  },
  {
   "cell_type": "code",
   "execution_count": null,
   "metadata": {},
   "outputs": [],
   "source": [
    "longitudinal.scatter('...', '...')"
   ]
  },
  {
   "cell_type": "code",
   "execution_count": null,
   "metadata": {},
   "outputs": [],
   "source": [
    "longitudinal.scatter('...', '...')"
   ]
  },
  {
   "cell_type": "markdown",
   "metadata": {},
   "source": [
    "What portion of children who are stunted at round 1 still stunted at round 4?"
   ]
  },
  {
   "cell_type": "code",
   "execution_count": null,
   "metadata": {
    "collapsed": true
   },
   "outputs": [],
   "source": [
    "stunted_round1 = data.where('round', 1).where(..., ...)"
   ]
  },
  {
   "cell_type": "code",
   "execution_count": null,
   "metadata": {
    "collapsed": true
   },
   "outputs": [],
   "source": [
    "stunted_round4 = data.where('round', 4).where(..., ...)"
   ]
  },
  {
   "cell_type": "code",
   "execution_count": null,
   "metadata": {},
   "outputs": [],
   "source": [
    "stunted_proportion = ..."
   ]
  },
  {
   "cell_type": "markdown",
   "metadata": {},
   "source": [
    "What portion are both stunted (zhfa<-2) & overweight? (zbfa>1)"
   ]
  },
  {
   "cell_type": "code",
   "execution_count": null,
   "metadata": {
    "collapsed": true
   },
   "outputs": [],
   "source": [
    "s_and_o_round1 = stunted_round1.where(..., ...)"
   ]
  },
  {
   "cell_type": "code",
   "execution_count": null,
   "metadata": {
    "collapsed": true
   },
   "outputs": [],
   "source": [
    "s_and_o_round4 = stunted_round4.where(..., ...)"
   ]
  },
  {
   "cell_type": "code",
   "execution_count": null,
   "metadata": {},
   "outputs": [],
   "source": [
    "s_and_o_proportion = ..."
   ]
  }
 ],
 "metadata": {
  "anaconda-cloud": {},
  "kernelspec": {
   "display_name": "Python 3",
   "language": "python",
   "name": "python3"
  },
  "language_info": {
   "codemirror_mode": {
    "name": "ipython",
    "version": 3
   },
   "file_extension": ".py",
   "mimetype": "text/x-python",
   "name": "python",
   "nbconvert_exporter": "python",
   "pygments_lexer": "ipython3",
   "version": "3.6.3"
  }
 },
 "nbformat": 4,
 "nbformat_minor": 1
}
