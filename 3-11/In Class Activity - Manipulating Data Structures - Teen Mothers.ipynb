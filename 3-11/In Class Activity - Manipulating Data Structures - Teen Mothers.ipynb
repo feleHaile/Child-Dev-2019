{
 "cells": [
  {
   "cell_type": "code",
   "execution_count": null,
   "metadata": {
    "collapsed": true
   },
   "outputs": [],
   "source": [
    "# run this cell\n",
    "from datascience import *\n",
    "from pandas import read_stata\n",
    "import numpy as np\n",
    "\n",
    "import matplotlib\n",
    "matplotlib.use('Agg', warn=False)\n",
    "%matplotlib inline\n",
    "import matplotlib.pyplot as plots\n",
    "plots.style.use('fivethirtyeight')\n",
    "import warnings\n",
    "warnings.simplefilter(action=\"ignore\", category=FutureWarning)"
   ]
  },
  {
   "cell_type": "markdown",
   "metadata": {},
   "source": [
    "In this exercise we will join data to learn about the education of teen mothers and thier children in urban Colombia from the 2016 ELCA survey.  Upload the roster data."
   ]
  },
  {
   "cell_type": "code",
   "execution_count": null,
   "metadata": {},
   "outputs": [],
   "source": [
    "filename = 'Colombia Roster.csv'\n",
    "colombia_roster = Table.read_table(filename)\n",
    "colombia_roster"
   ]
  },
  {
   "cell_type": "markdown",
   "metadata": {},
   "source": [
    "First, we need to figure out who were teen mothers.  For each mother on the roster, keep the oldest child. (use motherid)  \n",
    "This requires a number of steps: figure out who is the oldest child and then link that child's age to the mother's observation "
   ]
  },
  {
   "cell_type": "markdown",
   "metadata": {},
   "source": [
    "Keep only the variables householdid, mother_id and age. Rename motherID as indivID and rename age as childage.  Combine hhID & indivID into a unique_indivID"
   ]
  },
  {
   "cell_type": "code",
   "execution_count": null,
   "metadata": {
    "scrolled": false
   },
   "outputs": [],
   "source": [
    "children = colombia_roster.select('hhid', 'mother_id', 'age')\n",
    "children.relabel('mother_id', 'indivID').relabel('age', 'childage')\n",
    "children = children.where('indivID', are.above(0))\n",
    "children"
   ]
  },
  {
   "cell_type": "markdown",
   "metadata": {},
   "source": [
    "Create a mother id so we can group by this to find the oldest age"
   ]
  },
  {
   "cell_type": "code",
   "execution_count": null,
   "metadata": {},
   "outputs": [],
   "source": [
    "mother_unique_id = children.column('...') * 1000 + children.column('...')\n",
    "mother_unique_id"
   ]
  },
  {
   "cell_type": "markdown",
   "metadata": {},
   "source": [
    "Now we don't need hhid or indivID"
   ]
  },
  {
   "cell_type": "code",
   "execution_count": null,
   "metadata": {},
   "outputs": [],
   "source": [
    "children = children.with_column('mother_uniqueid', mother_unique_id)\n",
    "children = children.select('childage', 'mother_uniqueid')\n",
    "children"
   ]
  },
  {
   "cell_type": "markdown",
   "metadata": {},
   "source": [
    "Find the oldest age of each mother."
   ]
  },
  {
   "cell_type": "code",
   "execution_count": null,
   "metadata": {},
   "outputs": [],
   "source": [
    "oldest_children = children.group('mother_uniqueid', max)\n",
    "oldest_children"
   ]
  },
  {
   "cell_type": "markdown",
   "metadata": {},
   "source": [
    "Link this to the mother.  Open the roster data set again, create the unique_indivID combining hhID &indivID & join the data sets."
   ]
  },
  {
   "cell_type": "code",
   "execution_count": null,
   "metadata": {},
   "outputs": [],
   "source": [
    "unique_id = colombia_roster.column('...') * 1000 + colombia_roster.column('...')\n",
    "unique_id"
   ]
  },
  {
   "cell_type": "code",
   "execution_count": null,
   "metadata": {},
   "outputs": [],
   "source": [
    "colombia_roster = colombia_roster.with_column('unique_id', unique_id)\n",
    "colombia_roster = colombia_roster.with_column('mother_uniqueid', unique_id)\n",
    "colombia_roster"
   ]
  },
  {
   "cell_type": "code",
   "execution_count": null,
   "metadata": {},
   "outputs": [],
   "source": [
    "# Join only keeps individuals who have children in the data\n",
    "mothers = colombia_roster.join('mother_uniqueid', oldest_children)\n",
    "mothers"
   ]
  },
  {
   "cell_type": "markdown",
   "metadata": {},
   "source": [
    "Use Mother's age and age of oldest child to calculate mother's age at first birth."
   ]
  },
  {
   "cell_type": "code",
   "execution_count": null,
   "metadata": {},
   "outputs": [],
   "source": [
    "age_first_birth = mothers.column('...') - mothers.column('...')\n",
    "mothers = mothers.with_column('age first birth', age_first_birth)\n",
    "mothers"
   ]
  },
  {
   "cell_type": "markdown",
   "metadata": {},
   "source": [
    "Make a histogram of mother's age at first birth.  Remove crazy outliers."
   ]
  },
  {
   "cell_type": "code",
   "execution_count": null,
   "metadata": {},
   "outputs": [],
   "source": [
    "..."
   ]
  },
  {
   "cell_type": "markdown",
   "metadata": {},
   "source": [
    "Make a new \"TeenMom\" variable indicating women who had thier oldest child before age 20. Save this data table. (We probably missed some women who were teen mothers - why?)  "
   ]
  },
  {
   "cell_type": "code",
   "execution_count": null,
   "metadata": {},
   "outputs": [],
   "source": [
    "teen_mom = []\n",
    "for i in mothers.column('age first birth'):\n",
    "    if i < 20:\n",
    "        teen_mom.append('Yes')\n",
    "    else:\n",
    "        teen_mom.append('No')\n",
    "mothers = mothers.with_column('Teen Mom', teen_mom)\n",
    "mothers"
   ]
  },
  {
   "cell_type": "markdown",
   "metadata": {},
   "source": [
    "What percentage of women were teen mothers?"
   ]
  },
  {
   "cell_type": "code",
   "execution_count": null,
   "metadata": {},
   "outputs": [],
   "source": [
    "mothers.group('...')"
   ]
  },
  {
   "cell_type": "markdown",
   "metadata": {},
   "source": [
    "How does the level of education of women who were teen mothers compared to non-teen mothers?"
   ]
  },
  {
   "cell_type": "code",
   "execution_count": null,
   "metadata": {},
   "outputs": [],
   "source": [
    "mothers.where('...', '...').group('...')"
   ]
  },
  {
   "cell_type": "code",
   "execution_count": null,
   "metadata": {},
   "outputs": [],
   "source": [
    "..."
   ]
  },
  {
   "cell_type": "markdown",
   "metadata": {},
   "source": [
    "Now let's see if children of teen mothers have worse education than children of women who were not teen mothers.  We will need to merge in the TeenMom variable to the child data. Drop unique_motherID and rename unique_indivID.  Save only the variables unique_indivID and TeenMom in this small table."
   ]
  },
  {
   "cell_type": "code",
   "execution_count": null,
   "metadata": {},
   "outputs": [],
   "source": [
    "mother_info = mothers.select('mother_uniqueid', 'Teen Mom', 'age')\n",
    "mother_info = mother_info.relabel('...', 'mother age')\n",
    "mother_info"
   ]
  },
  {
   "cell_type": "code",
   "execution_count": null,
   "metadata": {
    "collapsed": true
   },
   "outputs": [],
   "source": [
    "# this will be our children with mother info table, but the mother info is not yet joined.\n",
    "children_with_mother_info = colombia_roster.drop('mother_uniqueid')\n",
    "children_with_mother_info = children_with_mother_info.where('mother_id', are.above(0))\n",
    "children_with_mother_info"
   ]
  },
  {
   "cell_type": "markdown",
   "metadata": {},
   "source": [
    "Create a mother unique ID"
   ]
  },
  {
   "cell_type": "code",
   "execution_count": null,
   "metadata": {},
   "outputs": [],
   "source": [
    "mother_uniqueid = children_with_mother_info.column('...') * 1000 + children_with_mother_info.column('...')\n",
    "children_with_mother_info = children_with_mother_info.with_column('mother_uniqueid', mother_uniqueid )\n",
    "children_with_mother_info"
   ]
  },
  {
   "cell_type": "markdown",
   "metadata": {},
   "source": [
    "Join Mother info to the Child"
   ]
  },
  {
   "cell_type": "code",
   "execution_count": null,
   "metadata": {},
   "outputs": [],
   "source": [
    "children_with_mother_info = children_with_mother_info.join('mother_uniqueid', mother_info)\n",
    "children_with_mother_info"
   ]
  },
  {
   "cell_type": "markdown",
   "metadata": {},
   "source": [
    "What percentage of children had mothers who were teen mothers?  Only consider chidlren < age 19"
   ]
  },
  {
   "cell_type": "code",
   "execution_count": null,
   "metadata": {},
   "outputs": [],
   "source": [
    "children_with_mother_info.where(...)..."
   ]
  },
  {
   "cell_type": "markdown",
   "metadata": {},
   "source": [
    "Let's examine the education of the children.  Only keep the ones currently attending."
   ]
  },
  {
   "cell_type": "code",
   "execution_count": null,
   "metadata": {},
   "outputs": [],
   "source": [
    "enrolled_children = children_with_mother_info.where('...', are.above(0))\n",
    "enrolled_children"
   ]
  },
  {
   "cell_type": "markdown",
   "metadata": {},
   "source": [
    "Find the average grade for each age."
   ]
  },
  {
   "cell_type": "code",
   "execution_count": null,
   "metadata": {},
   "outputs": [],
   "source": [
    "mean_grade_enrolled_children = enrolled_children.group('...', np.mean).select('age', 'current_grade mean')\n",
    "mean_grade_enrolled_children = mean_grade_enrolled_children.relabel('current_grade mean', 'mean grade')\n",
    "mean_grade_enrolled_children = mean_grade_enrolled_children.where('...', are.below(19))\n",
    "mean_grade_enrolled_children"
   ]
  },
  {
   "cell_type": "markdown",
   "metadata": {},
   "source": [
    "Join that mean grade to the child & their actual grade."
   ]
  },
  {
   "cell_type": "code",
   "execution_count": null,
   "metadata": {},
   "outputs": [],
   "source": [
    "enrolled_children = enrolled_children.join('age', mean_grade_enrolled_children, 'age')\n",
    "enrolled_children"
   ]
  },
  {
   "cell_type": "markdown",
   "metadata": {},
   "source": [
    "Calculate if the child is delayed by more than 1 year for their age."
   ]
  },
  {
   "cell_type": "code",
   "execution_count": null,
   "metadata": {},
   "outputs": [],
   "source": [
    "delayed_edu = (enrolled_children.column('current_grade') + ...) - enrolled_children.column('mean grade')\n",
    "delayed_edu"
   ]
  },
  {
   "cell_type": "code",
   "execution_count": null,
   "metadata": {},
   "outputs": [],
   "source": [
    "delayed = []\n",
    "for i in delayed_edu:\n",
    "    if i < 0:\n",
    "        delayed.append('Yes')\n",
    "    else:\n",
    "        delayed.append('No')\n",
    "enrolled_children = enrolled_children.with_column('delayed', delayed)\n",
    "enrolled_children"
   ]
  },
  {
   "cell_type": "markdown",
   "metadata": {},
   "source": [
    "Are children of teen moms more or less likely to be enrolled?"
   ]
  },
  {
   "cell_type": "code",
   "execution_count": null,
   "metadata": {},
   "outputs": [],
   "source": [
    "enrolled_children.where('...', '...').group('...')"
   ]
  },
  {
   "cell_type": "code",
   "execution_count": null,
   "metadata": {},
   "outputs": [],
   "source": []
  }
 ],
 "metadata": {
  "anaconda-cloud": {},
  "kernelspec": {
   "display_name": "Python 3",
   "language": "python",
   "name": "python3"
  },
  "language_info": {
   "codemirror_mode": {
    "name": "ipython",
    "version": 3
   },
   "file_extension": ".py",
   "mimetype": "text/x-python",
   "name": "python",
   "nbconvert_exporter": "python",
   "pygments_lexer": "ipython3",
   "version": "3.6.3"
  }
 },
 "nbformat": 4,
 "nbformat_minor": 1
}
