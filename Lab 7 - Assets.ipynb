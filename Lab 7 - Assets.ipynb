{
 "cells": [
  {
   "cell_type": "code",
   "execution_count": null,
   "metadata": {
    "collapsed": true
   },
   "outputs": [],
   "source": [
    "from datascience import *\n",
    "from pandas import read_stata\n",
    "import numpy as np\n",
    "\n",
    "import matplotlib\n",
    "matplotlib.use('Agg', warn=False)\n",
    "%matplotlib inline\n",
    "import matplotlib.pyplot as plots\n",
    "plots.style.use('fivethirtyeight')\n",
    "import warnings\n",
    "warnings.simplefilter(action=\"ignore\", category=FutureWarning)\n",
    "\n",
    "data = Table.read_table('Young Lives R1 XXXCOUNTRYXXX.csv')\n",
    "data"
   ]
  },
  {
   "cell_type": "markdown",
   "metadata": {},
   "source": [
    "Since we are using Young Lives data for this lab, we will mix up the groups.\n",
    "\n",
    "Ethiopia: Pheobe, Laila, Jenny\n",
    "\n",
    "India: Jorge, Sana\n",
    "\n",
    "Peru: Ana, Andrea, Pooja\n",
    "\n",
    "Vietnam: Jiwon, Luke\n",
    "\n",
    "Since we don't have our same groups as the LSMS surveys, we won't use those folders.  Make your own google docs to share and include all your group names in the doc.  Share the doc with me as well.\n",
    "sar48@berkeley.edu"
   ]
  },
  {
   "cell_type": "markdown",
   "metadata": {},
   "source": [
    "# Assets\n",
    "For this lab, we are going to look at the different household assets.  For each of the assets (found near the end of your data base), examine the values are and recode them numerically so 1=yes & 0=no.  Do this by writing a loop.  <font color=\"Blue\"> Item 1: Take a screen shot of your loop & share in the document."
   ]
  },
  {
   "cell_type": "code",
   "execution_count": null,
   "metadata": {
    "collapsed": true
   },
   "outputs": [],
   "source": []
  },
  {
   "cell_type": "markdown",
   "metadata": {},
   "source": [
    "For the household size (number of people in the household), number of bedrooms, floor and roof variables, examine these variables, and convert them into yes-no variables that you think make sense for \"poor\" and \"not poor\".   <font color=\"Blue\"> Item 2: Say what your cut-offs are and explain them."
   ]
  },
  {
   "cell_type": "code",
   "execution_count": null,
   "metadata": {
    "collapsed": true
   },
   "outputs": [],
   "source": []
  },
  {
   "cell_type": "markdown",
   "metadata": {},
   "source": [
    "We will be making our own asset index.  However, the assets for which everyone owns them or very few people own them are uninformative to our analysis.  Browse the data (including the variables you just created) and see which assets households everyone is most likely to have.  Which are they most likely not to have?  For purposes of statistical analyses, we'd like to select assets where some households have it, but not all of them.  The percentages of households that own the assets end up being somewhere between 15 & 85 percent. However, if you have a very poor country like Ethiopia very few people may own the assets, so you may need to use them all.\n",
    "\n",
    "Select at least 7 assets that you think may be important for child welfare (and have some variation in ownership) and <font color=\"Blue\"> Item 3: Report what portion of households have each of those 7 assets."
   ]
  },
  {
   "cell_type": "code",
   "execution_count": null,
   "metadata": {
    "collapsed": true
   },
   "outputs": [],
   "source": []
  },
  {
   "cell_type": "markdown",
   "metadata": {
    "collapsed": true
   },
   "source": [
    "Let's see how each asset is correlated with child outcomes. \n",
    "\n",
    "<font color=\"Blue\"> Item 4:  Find the mean zhfa_pr1 (HAZ) for those who have each asset and for those who don't.  Do the confidence intervals overlap?  For those that don't, what do you determine about this asset and its importance for child nutrition? "
   ]
  },
  {
   "cell_type": "code",
   "execution_count": null,
   "metadata": {
    "collapsed": true
   },
   "outputs": [],
   "source": []
  },
  {
   "cell_type": "markdown",
   "metadata": {},
   "source": [
    "Let's check if the assets you have chosen are associated with another measure of poverty, parents education.  Make a variable called \"Asset Index\" that averages the assets you selected in item 4.  \n",
    "<font color=\"Blue\"> Item 5: Find the correlation coefficient between the Asset Index and mother's education (edu_cat_mum).  What does this correlation tell you about using mother's education and assets as proxy variables for poverty?"
   ]
  },
  {
   "cell_type": "code",
   "execution_count": null,
   "metadata": {
    "collapsed": true
   },
   "outputs": [],
   "source": []
  },
  {
   "cell_type": "markdown",
   "metadata": {},
   "source": [
    "Bonus points: Young Lives has already calculated a wealth index, wi_r1, similar to the multidimensional  poverty index.  How well does it correlate to your asset index, mother's education, and zhfa_pr1?  "
   ]
  },
  {
   "cell_type": "code",
   "execution_count": null,
   "metadata": {
    "collapsed": true
   },
   "outputs": [],
   "source": []
  },
  {
   "cell_type": "markdown",
   "metadata": {},
   "source": [
    "Still have extra time?  Next week we will be back to our own LSMS data sets looking at income and inequality.  Make sure your income variable looks good - remove missing values and make sure you understand your time units."
   ]
  },
  {
   "cell_type": "code",
   "execution_count": null,
   "metadata": {
    "collapsed": true
   },
   "outputs": [],
   "source": []
  }
 ],
 "metadata": {
  "kernelspec": {
   "display_name": "Python 3",
   "language": "python",
   "name": "python3"
  },
  "language_info": {
   "codemirror_mode": {
    "name": "ipython",
    "version": 3
   },
   "file_extension": ".py",
   "mimetype": "text/x-python",
   "name": "python",
   "nbconvert_exporter": "python",
   "pygments_lexer": "ipython3",
   "version": "3.6.3"
  }
 },
 "nbformat": 4,
 "nbformat_minor": 1
}
