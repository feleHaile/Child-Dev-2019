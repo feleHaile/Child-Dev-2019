{
 "cells": [
  {
   "cell_type": "code",
   "execution_count": null,
   "metadata": {
    "collapsed": true
   },
   "outputs": [],
   "source": [
    "# make sure to run this cell\n",
    "from datascience import *\n",
    "import numpy as np\n",
    "import matplotlib.pyplot as plt\n",
    "import warnings\n",
    "\n",
    "%matplotlib inline\n",
    "plt.style.use('fivethirtyeight')\n",
    "warnings.simplefilter(action=\"ignore\", category=FutureWarning)"
   ]
  },
  {
   "cell_type": "markdown",
   "metadata": {},
   "source": [
    "# Midterm\n",
    "\n",
    "This coding portion of the midterm has 4 sections.  Each is stand-alone, so you can jump between them. \n",
    "\n",
    "\n",
    "I. [Who is in the data?](#who)\n",
    "\n",
    "II. [Cleaning](#clean)\n",
    "\n",
    "III. [Anthropometrics](#height)\n",
    "\n",
    "IV. [Education](#education)\n",
    "\n",
    "\n",
    "Answer the blue questions using a markdown cell, or put a hashtag in front of your answer.\n",
    "\n",
    "When you finish, save your notebook and email it to me: sar48@berkeley.edu\n",
    "\n",
    "Do not go to other websites during the exam.\n",
    "\n",
    "\n",
    "\n"
   ]
  },
  {
   "cell_type": "markdown",
   "metadata": {},
   "source": [
    "## Who is in the data <a id='who'></a>\n"
   ]
  },
  {
   "cell_type": "markdown",
   "metadata": {
    "scrolled": true
   },
   "source": [
    "Read in the file `Roster.csv`, which corresponds to data from Ethiopia (Young Lives).\n"
   ]
  },
  {
   "cell_type": "code",
   "execution_count": null,
   "metadata": {
    "collapsed": true
   },
   "outputs": [],
   "source": []
  },
  {
   "cell_type": "markdown",
   "metadata": {},
   "source": [
    "![](Roster.jpg) "
   ]
  },
  {
   "cell_type": "markdown",
   "metadata": {},
   "source": [
    "<font color=\"blue\"> Describe the first household in the data: (a) What is the age & sex of the young lives child? (b) How are the family members are related to the child? (Be specific: mother, father, brother, sister instead of parent, parent, sibling, sibling.)\n"
   ]
  },
  {
   "cell_type": "markdown",
   "metadata": {},
   "source": []
  },
  {
   "cell_type": "markdown",
   "metadata": {},
   "source": [
    "How many individuals are in the survey?"
   ]
  },
  {
   "cell_type": "code",
   "execution_count": null,
   "metadata": {
    "collapsed": true
   },
   "outputs": [],
   "source": []
  },
  {
   "cell_type": "markdown",
   "metadata": {},
   "source": [
    "How many households are in the survey?\n"
   ]
  },
  {
   "cell_type": "code",
   "execution_count": null,
   "metadata": {
    "collapsed": true
   },
   "outputs": [],
   "source": []
  },
  {
   "cell_type": "markdown",
   "metadata": {},
   "source": [
    "What is the size of the biggest household?\n"
   ]
  },
  {
   "cell_type": "code",
   "execution_count": null,
   "metadata": {
    "collapsed": true
   },
   "outputs": [],
   "source": []
  },
  {
   "cell_type": "markdown",
   "metadata": {},
   "source": [
    "What is the average household size?"
   ]
  },
  {
   "cell_type": "code",
   "execution_count": null,
   "metadata": {
    "collapsed": true
   },
   "outputs": [],
   "source": []
  },
  {
   "cell_type": "markdown",
   "metadata": {},
   "source": [
    "## Cleaning the Data <a id='clean'></a>\n",
    "\n",
    "The data `Consistency_Check.csv` is a set of household rosters from different years that have been joined. Each variable names use the format `VARIABLE_YEAR`.  Let's check if the sex of the individuals matches up between 2004, 2007 & 2011. First, read in the csv."
   ]
  },
  {
   "cell_type": "code",
   "execution_count": null,
   "metadata": {
    "collapsed": true,
    "scrolled": false
   },
   "outputs": [],
   "source": []
  },
  {
   "cell_type": "markdown",
   "metadata": {},
   "source": [
    "We are going to correct any values of the sex variables that do not make sense. We'll use the string '-99' for missing values."
   ]
  },
  {
   "cell_type": "markdown",
   "metadata": {},
   "source": [
    "We are going to make a column \"Consistent\" that indiciates if sex is the same for all years. First, assign `consistent` to be an array of booleans (`True` or `False` values) for whether or not the sex variables are all the same."
   ]
  },
  {
   "cell_type": "code",
   "execution_count": null,
   "metadata": {
    "collapsed": true
   },
   "outputs": [],
   "source": [
    "consistent = make_array()\n",
    "for i in range(...):\n",
    "    single_row = ....row(...)\n",
    "    same = single_row.item('sex_2004') == single_row.item('...') == ...\n",
    "    consistent = np.append(consistent, same)"
   ]
  },
  {
   "cell_type": "markdown",
   "metadata": {},
   "source": [
    "Add the column to your table."
   ]
  },
  {
   "cell_type": "code",
   "execution_count": null,
   "metadata": {
    "collapsed": true
   },
   "outputs": [],
   "source": []
  },
  {
   "cell_type": "markdown",
   "metadata": {},
   "source": [
    "Use the following cell to display the rows that are inconsistent."
   ]
  },
  {
   "cell_type": "code",
   "execution_count": null,
   "metadata": {
    "collapsed": true
   },
   "outputs": [],
   "source": [
    "NotConsistent = ....where('Consistent', False)\n",
    "NotConsistent"
   ]
  },
  {
   "cell_type": "markdown",
   "metadata": {},
   "source": [
    "Fill in the code that comes up with a definitive sex when possible (including the rows that already have a consistent sex), and '-99' when not."
   ]
  },
  {
   "cell_type": "code",
   "execution_count": null,
   "metadata": {
    "collapsed": true
   },
   "outputs": [],
   "source": [
    "replacement_values = make_array()\n",
    "\n",
    "for i in range(....num_rows):\n",
    "\n",
    "    single_row = ....row(i)\n",
    "    \n",
    "    \n",
    "    if not single_row.item('Consistent'):\n",
    "        sexes = make_array(single_row.item('sex_2004'), single_row.item('...'), ...)\n",
    "        m = np.count_nonzero(sexes == '...')\n",
    "        f = ...\n",
    "        \n",
    "        if m > f:\n",
    "            replacement_values = np.append(replacement_values, 'Male')\n",
    "        elif ...:\n",
    "            ...................................\n",
    "        else:\n",
    "            replacement_values = np.append(..., '-99')\n",
    "            \n",
    "            \n",
    "    else:\n",
    "        replacement_values = np.append(replacement_values, single_row.item('...'))"
   ]
  },
  {
   "cell_type": "markdown",
   "metadata": {},
   "source": [
    "For how many observations were you unable to correct the sex?"
   ]
  },
  {
   "cell_type": "code",
   "execution_count": null,
   "metadata": {
    "collapsed": true
   },
   "outputs": [],
   "source": []
  },
  {
   "cell_type": "markdown",
   "metadata": {},
   "source": [
    "## Anthropometrics <a id='height'></a>\n",
    "The data `Anthropometrics.csv` is on children's height from India (Young Lives). Read in the table. "
   ]
  },
  {
   "cell_type": "code",
   "execution_count": null,
   "metadata": {
    "collapsed": true
   },
   "outputs": [],
   "source": []
  },
  {
   "cell_type": "markdown",
   "metadata": {},
   "source": [
    "![](growth_chart_boys.jpg) "
   ]
  },
  {
   "cell_type": "markdown",
   "metadata": {},
   "source": [
    "Find average height for boys at age 12 months.  <font color=\"blue\"> Using the growth chart, estimate the percentiles of the average year-old boy.  Remember to ignore the missing values."
   ]
  },
  {
   "cell_type": "code",
   "execution_count": null,
   "metadata": {
    "collapsed": true
   },
   "outputs": [],
   "source": []
  },
  {
   "cell_type": "markdown",
   "metadata": {},
   "source": []
  },
  {
   "cell_type": "markdown",
   "metadata": {},
   "source": [
    "Add two new columns to your table: one called `Stunted` and one called `Wasted`, indicating which children are stunted and wasted. <font color=\"blue\"> Are all those who are stunted wasted? Are all those who are wasted stunted?  Explain why."
   ]
  },
  {
   "cell_type": "code",
   "execution_count": null,
   "metadata": {
    "collapsed": true
   },
   "outputs": [],
   "source": []
  },
  {
   "cell_type": "markdown",
   "metadata": {},
   "source": []
  },
  {
   "cell_type": "markdown",
   "metadata": {},
   "source": [
    "Make two tables: one with the average height for boys at each age and one with the average for girls at each age. Combine these together with the list of ages into a small table with three columns: age_in_months, average_height_boys, average_height_girls."
   ]
  },
  {
   "cell_type": "code",
   "execution_count": null,
   "metadata": {
    "collapsed": true
   },
   "outputs": [],
   "source": []
  },
  {
   "cell_type": "markdown",
   "metadata": {},
   "source": [
    "Make a scatter plot of average height of boys & girls by age in months. <font color=\"blue\">  What patterns do you notice?"
   ]
  },
  {
   "cell_type": "code",
   "execution_count": null,
   "metadata": {
    "collapsed": true
   },
   "outputs": [],
   "source": []
  },
  {
   "cell_type": "markdown",
   "metadata": {},
   "source": []
  },
  {
   "cell_type": "markdown",
   "metadata": {},
   "source": [
    "## Education <a id='education'></a>\n",
    "The code for the levels of schooling in Vietnam are  \n",
    "\n",
    "    0) No School\n",
    "    1) Preschool\n",
    "    2) Lower Primary (grade 6)\n",
    "    3) Upper Primary (grade 9)\n",
    "    4) Secondary (grade 12)\n",
    "\n",
    "Information on Young Lives children are found in Education_kids.csv. Read in the table."
   ]
  },
  {
   "cell_type": "code",
   "execution_count": null,
   "metadata": {},
   "outputs": [],
   "source": []
  },
  {
   "cell_type": "markdown",
   "metadata": {},
   "source": [
    "Make the column \"years of schooling\" by combining the school_level with the years_at_level variable. "
   ]
  },
  {
   "cell_type": "code",
   "execution_count": null,
   "metadata": {
    "collapsed": true
   },
   "outputs": [],
   "source": []
  },
  {
   "cell_type": "markdown",
   "metadata": {},
   "source": [
    "One age has the most children.  Keep only children of that age in your data."
   ]
  },
  {
   "cell_type": "code",
   "execution_count": null,
   "metadata": {
    "collapsed": true
   },
   "outputs": [],
   "source": []
  },
  {
   "cell_type": "markdown",
   "metadata": {},
   "source": [
    "With this limited data set, make a histogram of \"years of schooling\". (End the histogram axis beyond the maximum years of schooling due to the data science graphing issue.)"
   ]
  },
  {
   "cell_type": "code",
   "execution_count": null,
   "metadata": {
    "collapsed": true
   },
   "outputs": [],
   "source": [
    "\n"
   ]
  },
  {
   "cell_type": "markdown",
   "metadata": {},
   "source": [
    "Create a column called \"Delayed\" that indicates if these children of the specific age are behind more than one year of the modal grade."
   ]
  },
  {
   "cell_type": "code",
   "execution_count": null,
   "metadata": {
    "collapsed": true
   },
   "outputs": [],
   "source": []
  },
  {
   "cell_type": "markdown",
   "metadata": {},
   "source": [
    "Parents' years of school is in a separate data file, `Education_parents.csv`.  Join in the data set of parents schooling to the table.  (Use the simple data science join; you don't have to use the \"left\" join.)"
   ]
  },
  {
   "cell_type": "code",
   "execution_count": null,
   "metadata": {
    "collapsed": true
   },
   "outputs": [],
   "source": []
  },
  {
   "cell_type": "markdown",
   "metadata": {},
   "source": [
    "What percentage of 12-year-old children with fathers who have not had any schooling are delayed?"
   ]
  },
  {
   "cell_type": "code",
   "execution_count": null,
   "metadata": {
    "collapsed": true
   },
   "outputs": [],
   "source": []
  },
  {
   "cell_type": "markdown",
   "metadata": {},
   "source": [
    "What percentage of 12-year-old children with mothers who have finished secondary (grade 12) are delayed?"
   ]
  },
  {
   "cell_type": "code",
   "execution_count": null,
   "metadata": {
    "collapsed": true
   },
   "outputs": [],
   "source": []
  },
  {
   "cell_type": "markdown",
   "metadata": {},
   "source": [
    "#### Congratulations, you're done! Make sure to save this notebook, and email your notebook to  sar48@berkeley.edu"
   ]
  },
  {
   "cell_type": "code",
   "execution_count": null,
   "metadata": {
    "collapsed": true
   },
   "outputs": [],
   "source": []
  }
 ],
 "metadata": {
  "anaconda-cloud": {},
  "kernelspec": {
   "display_name": "Python 3",
   "language": "python",
   "name": "python3"
  },
  "language_info": {
   "codemirror_mode": {
    "name": "ipython",
    "version": 3
   },
   "file_extension": ".py",
   "mimetype": "text/x-python",
   "name": "python",
   "nbconvert_exporter": "python",
   "pygments_lexer": "ipython3",
   "version": "3.6.3"
  }
 },
 "nbformat": 4,
 "nbformat_minor": 1
}
