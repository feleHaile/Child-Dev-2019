{
 "cells": [
  {
   "cell_type": "code",
   "execution_count": null,
   "metadata": {
    "collapsed": true
   },
   "outputs": [],
   "source": [
    "from datascience import *\n",
    "import numpy as np\n",
    "import matplotlib.pyplot as plt\n",
    "import warnings\n",
    "\n",
    "%matplotlib inline\n",
    "plt.style.use('fivethirtyeight')\n",
    "warnings.simplefilter(action=\"ignore\", category=FutureWarning)"
   ]
  },
  {
   "cell_type": "markdown",
   "metadata": {},
   "source": [
    "# Data Cleaning for Consistency"
   ]
  },
  {
   "cell_type": "markdown",
   "metadata": {},
   "source": [
    "Import the Peru data file into the notebook"
   ]
  },
  {
   "cell_type": "code",
   "execution_count": null,
   "metadata": {
    "collapsed": true
   },
   "outputs": [],
   "source": [
    "ylives = Table.read_table(....)\n",
    "ylives"
   ]
  },
  {
   "cell_type": "markdown",
   "metadata": {},
   "source": [
    "### Sex Variables Cleaning\n",
    "Check the values of each of the sex variables"
   ]
  },
  {
   "cell_type": "code",
   "execution_count": null,
   "metadata": {
    "collapsed": true
   },
   "outputs": [],
   "source": [
    "ylives.group('sex_5y')"
   ]
  },
  {
   "cell_type": "code",
   "execution_count": null,
   "metadata": {
    "collapsed": true
   },
   "outputs": [],
   "source": [
    "ylives.group('...')"
   ]
  },
  {
   "cell_type": "code",
   "execution_count": null,
   "metadata": {
    "collapsed": true
   },
   "outputs": [],
   "source": [
    "#check 12 years here"
   ]
  },
  {
   "cell_type": "markdown",
   "metadata": {},
   "source": [
    "Check if the sexes match for ages 5 & 8."
   ]
  },
  {
   "cell_type": "code",
   "execution_count": null,
   "metadata": {
    "collapsed": true
   },
   "outputs": [],
   "source": [
    "test1 = ylives.where(ylives['sex_5y'] == ylives['sex_8y'])\n",
    "test1"
   ]
  },
  {
   "cell_type": "markdown",
   "metadata": {},
   "source": [
    "Check if the sexes match for ages 5 & 8 and for ages 8 & 12."
   ]
  },
  {
   "cell_type": "code",
   "execution_count": null,
   "metadata": {
    "collapsed": true
   },
   "outputs": [],
   "source": [
    "test2 = np.logical_and(..., ...)\n",
    "sum(test2)"
   ]
  },
  {
   "cell_type": "markdown",
   "metadata": {},
   "source": [
    "What does test2 look like?"
   ]
  },
  {
   "cell_type": "code",
   "execution_count": null,
   "metadata": {
    "collapsed": true
   },
   "outputs": [],
   "source": []
  },
  {
   "cell_type": "markdown",
   "metadata": {},
   "source": [
    "Check how many are problematic."
   ]
  },
  {
   "cell_type": "code",
   "execution_count": null,
   "metadata": {
    "collapsed": true
   },
   "outputs": [],
   "source": [
    "not_equal = np.invert(test2)\n",
    "sum(not_equal)"
   ]
  },
  {
   "cell_type": "markdown",
   "metadata": {},
   "source": [
    "Examine the problematic observations"
   ]
  },
  {
   "cell_type": "code",
   "execution_count": null,
   "metadata": {
    "collapsed": true,
    "scrolled": true
   },
   "outputs": [],
   "source": [
    "ylives.where(not_equal)"
   ]
  },
  {
   "cell_type": "markdown",
   "metadata": {},
   "source": [
    "Code to correct the sex.  When will you not be able to make an educated guess?"
   ]
  },
  {
   "cell_type": "code",
   "execution_count": null,
   "metadata": {
    "collapsed": true
   },
   "outputs": [],
   "source": [
    "replacement_values = []\n",
    "rows_to_look_at_further = []"
   ]
  },
  {
   "cell_type": "code",
   "execution_count": null,
   "metadata": {
    "collapsed": true
   },
   "outputs": [],
   "source": [
    "for i in range(ylives.num_rows):\n",
    "    if not_equal[i]:\n",
    "        sexes = [ylives['sex_5y'][i], ylives['sex_8y'][i], ylives['sex_12y'][i]]\n",
    "        m, f = sexes.count('Male'), sexes.count('Female')\n",
    "        if m > f:\n",
    "            replacement_values.append('Male')\n",
    "        elif f > m:\n",
    "            replacement_values.append('Female')\n",
    "        else:\n",
    "            replacement_values.append(-99)\n",
    "            rows_to_look_at_further.append(i)\n",
    "    else:\n",
    "        replacement_values.append(ylives['sex_5y'][i])"
   ]
  },
  {
   "cell_type": "markdown",
   "metadata": {},
   "source": [
    "TRANSALATION:\n",
    "\n",
    "    for each row:\n",
    "        \n",
    "        if not all three columns have the same value (which we determined earlier with not_equal):\n",
    "\n",
    "            make a mini table called sexes\n",
    "            \n",
    "            count how many times each sex (m & f) appears\n",
    "\n",
    "            if more males than females:\n",
    "                assign value male\n",
    "            if more females than males:\n",
    "                assign value female\n",
    "            if there is one male, one female, and one nan: \n",
    "                assign None and add row to table of observations that need to be investigated\n",
    "        \n",
    "        if all three columns do have the same value:\n",
    "            \n",
    "            add that value to the replacements"
   ]
  },
  {
   "cell_type": "markdown",
   "metadata": {},
   "source": [
    "Take a look at problem observartions that cannot be fixed.  What is your plan for them?"
   ]
  },
  {
   "cell_type": "code",
   "execution_count": null,
   "metadata": {
    "collapsed": true
   },
   "outputs": [],
   "source": [
    "ylives.take(rows_to_look_at_further)"
   ]
  },
  {
   "cell_type": "markdown",
   "metadata": {},
   "source": [
    "Fix the ones that can be fixed"
   ]
  },
  {
   "cell_type": "code",
   "execution_count": null,
   "metadata": {
    "collapsed": true
   },
   "outputs": [],
   "source": [
    "ylives['sex_5y'] = replacement_values\n",
    "ylives['...'] = replacement_values\n",
    "ylives['...'] = ...\n",
    "ylives"
   ]
  },
  {
   "cell_type": "markdown",
   "metadata": {},
   "source": [
    "### Relate Variables Cleaning\n",
    "Try re-doing the above exercise using the relate variables. \n",
    "Copy & paste all the cells right here & change from sex to relate."
   ]
  },
  {
   "cell_type": "code",
   "execution_count": null,
   "metadata": {
    "collapsed": true
   },
   "outputs": [],
   "source": []
  },
  {
   "cell_type": "markdown",
   "metadata": {},
   "source": [
    "### Age Variables Cleaning\n",
    "\n",
    "Now let's think about how to check consistency on the ages.  If we repeat the exercise the same as above, we will have too many errors.  Why?"
   ]
  },
  {
   "cell_type": "code",
   "execution_count": null,
   "metadata": {
    "collapsed": true
   },
   "outputs": [],
   "source": [
    "#just run this cell - adds a graphing package\n",
    "import matplotlib.pyplot as plt\n",
    "%matplotlib inline\n",
    "from collections import Counter\n",
    "# converts to pandas & drops nan\n",
    "agetest = ylives.to_df().dropna(subset=['age_8y', 'age_5y', 'age_12y'])"
   ]
  },
  {
   "cell_type": "markdown",
   "metadata": {},
   "source": [
    "Note that we are now using the table agetest instead of ylives\n",
    "Let's examine the age differences between years."
   ]
  },
  {
   "cell_type": "code",
   "execution_count": null,
   "metadata": {
    "collapsed": true
   },
   "outputs": [],
   "source": [
    "five_eight = agetest['age_8y'] - agetest['age_5y']\n",
    "five_eight.value_counts()"
   ]
  },
  {
   "cell_type": "markdown",
   "metadata": {},
   "source": [
    "This will be easier to see in a graph - note we are dropping the tails"
   ]
  },
  {
   "cell_type": "code",
   "execution_count": null,
   "metadata": {
    "collapsed": true
   },
   "outputs": [],
   "source": [
    "plt.hist(five_eight, bins=9, range=(-2, 7));"
   ]
  },
  {
   "cell_type": "code",
   "execution_count": null,
   "metadata": {
    "collapsed": true
   },
   "outputs": [],
   "source": [
    "eight_twelve = test['...'] - test['...']\n",
    "eight_twelve.value_counts()"
   ]
  },
  {
   "cell_type": "code",
   "execution_count": null,
   "metadata": {
    "collapsed": true
   },
   "outputs": [],
   "source": [
    "plt.hist(..., bins=11, range=(-2, 9));"
   ]
  },
  {
   "cell_type": "code",
   "execution_count": null,
   "metadata": {
    "collapsed": true
   },
   "outputs": [],
   "source": [
    "five_twelve = ...\n",
    "five_twelve.value_counts()"
   ]
  },
  {
   "cell_type": "code",
   "execution_count": null,
   "metadata": {
    "collapsed": true
   },
   "outputs": [],
   "source": [
    "plt.hist(...);"
   ]
  },
  {
   "cell_type": "markdown",
   "metadata": {},
   "source": [
    "#### Determining which ages are \"ok\"\n",
    "This is a bit of a value judgement.  We can use visual inspection & choose ages based on the histograms, or we can use means and standard deviations.  Beyond 2 standard deviations is very unlikely, so let's flag those.  The next cell calculates means & standard deviations & calculates what portion of observations beyond 2 s.d. are flagged."
   ]
  },
  {
   "cell_type": "code",
   "execution_count": null,
   "metadata": {
    "collapsed": true
   },
   "outputs": [],
   "source": [
    "full_array = []\n",
    "for diff in [five_eight, eight_twelve, five_twelve]:\n",
    "    sub_array = []\n",
    "    mu, sigsq = np.mean(diff), np.std(diff)\n",
    "    print('Mean: {}\\nStandard Deviation: {}'.format(mu, sigsq))\n",
    "    \n",
    "    for value in diff:\n",
    "        if abs(mu - value) > 2 * sigsq:\n",
    "            sub_array.append(False)\n",
    "        else:\n",
    "            sub_array.append(True)\n",
    "    print('Flagged Values:', 1-np.mean(sub_array), '\\n')\n",
    "    full_array.append(sub_array)"
   ]
  },
  {
   "cell_type": "markdown",
   "metadata": {},
   "source": [
    "We won't code up the rest, but think of the processes we'd have to go through:\n",
    "\n",
    "For those with a difference outside the window, we have to correct them. \n",
    "How do we determine which is the true age to base the corrections on?  \n",
    "How do we calculate the replacement age?"
   ]
  },
  {
   "cell_type": "markdown",
   "metadata": {},
   "source": [
    "Reflection: Consider how many corrections we have made for the sex, relate and age variables. Based on the size of the survey, do think this quantity is problematic?"
   ]
  }
 ],
 "metadata": {
  "anaconda-cloud": {},
  "kernelspec": {
   "display_name": "Python 3",
   "language": "python",
   "name": "python3"
  },
  "language_info": {
   "codemirror_mode": {
    "name": "ipython",
    "version": 3
   },
   "file_extension": ".py",
   "mimetype": "text/x-python",
   "name": "python",
   "nbconvert_exporter": "python",
   "pygments_lexer": "ipython3",
   "version": "3.6.3"
  }
 },
 "nbformat": 4,
 "nbformat_minor": 1
}
